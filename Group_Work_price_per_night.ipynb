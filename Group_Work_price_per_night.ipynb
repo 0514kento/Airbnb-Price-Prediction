{
 "cells": [
  {
   "cell_type": "code",
   "execution_count": 69,
   "metadata": {},
   "outputs": [],
   "source": [
    "import pandas as pd\n",
    "import numpy as np\n",
    "import matplotlib.pyplot as plt\n",
    "import seaborn as sns"
   ]
  },
  {
   "cell_type": "code",
   "execution_count": 70,
   "metadata": {},
   "outputs": [
    {
     "name": "stderr",
     "output_type": "stream",
     "text": [
      "/var/folders/wq/lz1mv8gj227bv83rhxpf97rh0000gn/T/ipykernel_8035/1542708656.py:2: DtypeWarning: Columns (4) have mixed types. Specify dtype option on import or set low_memory=False.\n",
      "  listing=pd.read_csv(\"listing_us.csv\")\n"
     ]
    }
   ],
   "source": [
    "# Read data\n",
    "listing=pd.read_csv(\"listing_us.csv\")"
   ]
  },
  {
   "cell_type": "markdown",
   "metadata": {},
   "source": [
    "## EDA"
   ]
  },
  {
   "cell_type": "code",
   "execution_count": 72,
   "metadata": {},
   "outputs": [
    {
     "name": "stdout",
     "output_type": "stream",
     "text": [
      "Los Angeles size: 42451, New York size: 42931\n"
     ]
    }
   ],
   "source": [
    "# Data Size check \n",
    "print(f\"Los Angeles size: {len(listing_la)}, New York size: {len(listing_ny)}\")"
   ]
  },
  {
   "cell_type": "code",
   "execution_count": 73,
   "metadata": {},
   "outputs": [
    {
     "data": {
      "text/plain": [
       "Index(['id', 'name', 'host_id', 'host_name', 'neighbourhood_group',\n",
       "       'neighbourhood', 'latitude', 'longitude', 'room_type', 'price',\n",
       "       'minimum_nights', 'number_of_reviews', 'last_review',\n",
       "       'reviews_per_month', 'calculated_host_listings_count',\n",
       "       'availability_365', 'number_of_reviews_ltm', 'city'],\n",
       "      dtype='object')"
      ]
     },
     "execution_count": 73,
     "metadata": {},
     "output_type": "execute_result"
    }
   ],
   "source": [
    "listing.columns"
   ]
  },
  {
   "cell_type": "code",
   "execution_count": 74,
   "metadata": {},
   "outputs": [
    {
     "data": {
      "text/plain": [
       "id                                     0\n",
       "name                                  16\n",
       "host_id                                0\n",
       "host_name                             13\n",
       "neighbourhood_group               135647\n",
       "neighbourhood                          0\n",
       "latitude                               0\n",
       "longitude                              0\n",
       "room_type                              0\n",
       "price                                  0\n",
       "minimum_nights                         0\n",
       "number_of_reviews                      0\n",
       "last_review                        49085\n",
       "reviews_per_month                  49085\n",
       "calculated_host_listings_count         0\n",
       "availability_365                       0\n",
       "number_of_reviews_ltm                  0\n",
       "city                                   0\n",
       "dtype: int64"
      ]
     },
     "execution_count": 74,
     "metadata": {},
     "output_type": "execute_result"
    }
   ],
   "source": [
    "listing.isnull().sum()"
   ]
  },
  {
   "cell_type": "markdown",
   "metadata": {},
   "source": [
    "Drop [\"host_id\", \"host_name\", \"neighbourhood_group\", \"neighbourhood\", \"latitude\", \"longitude\"]"
   ]
  },
  {
   "cell_type": "code",
   "execution_count": 75,
   "metadata": {},
   "outputs": [],
   "source": [
    "listing.drop([\"host_id\", \"host_name\", \"neighbourhood_group\", \"neighbourhood\", \"latitude\", \"longitude\"], axis=1, inplace=True)"
   ]
  },
  {
   "cell_type": "code",
   "execution_count": 76,
   "metadata": {},
   "outputs": [],
   "source": [
    "from scipy import stats"
   ]
  },
  {
   "cell_type": "code",
   "execution_count": 77,
   "metadata": {},
   "outputs": [
    {
     "name": "stdout",
     "output_type": "stream",
     "text": [
      "Percentage of data without outlier 99.63%\n"
     ]
    }
   ],
   "source": [
    "# Remove Outlier\n",
    "z_price = np.abs(stats.zscore(listing[\"price\"]))\n",
    "print(f\"Percentage of data without outlier {round((len(listing[z_price<3])/len(listing)),4)*100}%\")\n",
    "listing = listing[z_price<3]"
   ]
  },
  {
   "cell_type": "code",
   "execution_count": 78,
   "metadata": {},
   "outputs": [
    {
     "name": "stderr",
     "output_type": "stream",
     "text": [
      "/var/folders/wq/lz1mv8gj227bv83rhxpf97rh0000gn/T/ipykernel_8035/1869866303.py:5: FutureWarning: A value is trying to be set on a copy of a DataFrame or Series through chained assignment using an inplace method.\n",
      "The behavior will change in pandas 3.0. This inplace method will never work because the intermediate object on which we are setting values always behaves as a copy.\n",
      "\n",
      "For example, when doing 'df[col].method(value, inplace=True)', try using 'df.method({col: value}, inplace=True)' or df[col] = df[col].method(value) instead, to perform the operation inplace on the original object.\n",
      "\n",
      "\n",
      "  listing[\"days_from_last_review_23\"].fillna(-1, inplace=True)\n"
     ]
    }
   ],
   "source": [
    "# EDA for last_review\n",
    "from datetime import datetime\n",
    "listing[\"last_review\"] = pd.to_datetime(listing[\"last_review\"])\n",
    "listing[\"days_from_last_review_23\"] = (datetime.strptime(\"2023-12-31\", \"%Y-%m-%d\") - listing[\"last_review\"]).dt.days\n",
    "listing[\"days_from_last_review_23\"].fillna(-1, inplace=True)\n",
    "listing[\"days_from_last_review_23\"]=listing[\"days_from_last_review_23\"].astype(int)"
   ]
  },
  {
   "cell_type": "code",
   "execution_count": 79,
   "metadata": {},
   "outputs": [
    {
     "data": {
      "text/plain": [
       "np.float64(0.09388228070858141)"
      ]
     },
     "execution_count": 79,
     "metadata": {},
     "output_type": "execute_result"
    }
   ],
   "source": [
    "-listing[((listing[\"city\"]==\"Los Angeles\")|(listing[\"city\"]==\"New York City\"))&(listing[\"days_from_last_review_23\"]==-1)][\"days_from_last_review_23\"].sum()/len(listing)"
   ]
  },
  {
   "cell_type": "code",
   "execution_count": 80,
   "metadata": {},
   "outputs": [],
   "source": [
    "# Make rating cuz no. of reviews are scattered  \n",
    "listing[\"reviews_rate\"] = listing[\"number_of_reviews_ltm\"]/listing[\"number_of_reviews\"]"
   ]
  },
  {
   "cell_type": "code",
   "execution_count": 81,
   "metadata": {},
   "outputs": [],
   "source": [
    "# Binning 'availability_365' into 4 bins\n",
    "listing['availability'] = pd.cut(listing['availability_365'], bins=[0, 90, 180, 270, 365], labels=['low', 'medium', 'high', 'very high'])"
   ]
  },
  {
   "cell_type": "code",
   "execution_count": 82,
   "metadata": {},
   "outputs": [],
   "source": [
    "# Price itself itn't a good feature, \n",
    "listing['price_per_night'] = listing['price'] / listing['minimum_nights']"
   ]
  },
  {
   "cell_type": "code",
   "execution_count": 83,
   "metadata": {},
   "outputs": [],
   "source": [
    "listing.drop([\"id\", \"name\"], axis=1, inplace=True)"
   ]
  },
  {
   "cell_type": "code",
   "execution_count": 84,
   "metadata": {},
   "outputs": [],
   "source": [
    "from sklearn.preprocessing import StandardScaler\n",
    "\n",
    "numeric_columns = ['minimum_nights', 'number_of_reviews', 'reviews_per_month',\n",
    "                   'calculated_host_listings_count', \"availability_365\",\n",
    "                   'number_of_reviews_ltm', 'days_from_last_review_23', 'reviews_rate']\n",
    "\n",
    "# Create a StandardScaler instance\n",
    "scaler = StandardScaler()\n",
    "\n",
    "# Apply the standardization to the selected numeric columns\n",
    "listing[numeric_columns] = scaler.fit_transform(listing[numeric_columns])"
   ]
  },
  {
   "cell_type": "code",
   "execution_count": 85,
   "metadata": {},
   "outputs": [
    {
     "data": {
      "text/plain": [
       "<Axes: >"
      ]
     },
     "execution_count": 85,
     "metadata": {},
     "output_type": "execute_result"
    },
    {
     "data": {
      "image/png": "[encoded data removed]",
      "text/plain": [
       "<Figure size 640x480 with 2 Axes>"
      ]
     },
     "metadata": {},
     "output_type": "display_data"
    }
   ],
   "source": [
    "numeric_columns.append(\"price\")\n",
    "sns.heatmap(listing[numeric_columns].corr(), annot=True)"
   ]
  },
  {
   "cell_type": "code",
   "execution_count": 112,
   "metadata": {},
   "outputs": [],
   "source": [
    "#Create Category outcome by price threshold. I feel 50 bucks per night is good threshold. Over 50, i feel expensive.\n",
    "def categorize_price(price):\n",
    "    if price < 50:\n",
    "        return 'low'\n",
    "    else:\n",
    "        return 'high'"
   ]
  },
  {
   "cell_type": "code",
   "execution_count": 113,
   "metadata": {},
   "outputs": [],
   "source": [
    "listing['price_category_per_night'] = listing['price_per_night'].apply(categorize_price)"
   ]
  },
  {
   "cell_type": "code",
   "execution_count": 114,
   "metadata": {},
   "outputs": [
    {
     "data": {
      "text/plain": [
       "price_category_per_night\n",
       "high    0.519688\n",
       "low     0.480312\n",
       "Name: count, dtype: float64"
      ]
     },
     "execution_count": 114,
     "metadata": {},
     "output_type": "execute_result"
    }
   ],
   "source": [
    "listing[\"price_category_per_night\"].value_counts()/len(listing)"
   ]
  },
  {
   "cell_type": "code",
   "execution_count": 116,
   "metadata": {},
   "outputs": [],
   "source": [
    "# create dummy variables for room type\n",
    "dummies = pd.get_dummies(listing[\"room_type\"], prefix=\"roomtype\")\n",
    "listing = pd.concat([listing.drop(columns=[\"room_type\"]), dummies], axis=1)\n"
   ]
  },
  {
   "cell_type": "code",
   "execution_count": 151,
   "metadata": {},
   "outputs": [
    {
     "name": "stderr",
     "output_type": "stream",
     "text": [
      "/var/folders/wq/lz1mv8gj227bv83rhxpf97rh0000gn/T/ipykernel_8035/3789109718.py:1: FutureWarning: Downcasting behavior in `replace` is deprecated and will be removed in a future version. To retain the old behavior, explicitly call `result.infer_objects(copy=False)`. To opt-in to the future behavior, set `pd.set_option('future.no_silent_downcasting', True)`\n",
      "  listing[\"price_category_per_night\"].replace({\"high\":1, \"low\":0}, inplace=True)\n"
     ]
    }
   ],
   "source": [
    "listing[\"price_category_per_night\"].replace({\"high\":1, \"low\":0}, inplace=True)"
   ]
  },
  {
   "cell_type": "markdown",
   "metadata": {},
   "source": [
    "## Model"
   ]
  },
  {
   "cell_type": "code",
   "execution_count": null,
   "metadata": {},
   "outputs": [],
   "source": [
    "\"\"\"\n",
    "X; roomtype_Entire home/apt, roomtype_Hotel room, roomtype_Private room, number_of_reviews_ltm, availability_365, days_from_last_review_23, (calculated_host_listings_count)\n",
    "y; price_category_per_night\n",
    "\"\"\""
   ]
  },
  {
   "cell_type": "code",
   "execution_count": 153,
   "metadata": {},
   "outputs": [],
   "source": [
    "# Filter for city\n",
    "listing_la = listing[listing[\"city\"]==\"Los Angeles\"]\n",
    "listing_ny = listing[listing[\"city\"]==\"New York City\"]"
   ]
  },
  {
   "cell_type": "code",
   "execution_count": 154,
   "metadata": {},
   "outputs": [],
   "source": [
    "x_columns = [\"roomtype_Entire home/apt\", \"roomtype_Hotel room\", \"roomtype_Private room\", \"number_of_reviews_ltm\", \"availability_365\", \"days_from_last_review_23\", \"calculated_host_listings_count\"]"
   ]
  },
  {
   "cell_type": "code",
   "execution_count": 155,
   "metadata": {},
   "outputs": [],
   "source": [
    "X_la = listing_la[x_columns].astype(int)\n",
    "y_la = listing_la[\"price_category_per_night\"]\n",
    "X_ny = listing_ny[x_columns].astype(int)\n",
    "y_ny = listing_ny[\"price_category_per_night\"]"
   ]
  },
  {
   "cell_type": "code",
   "execution_count": 156,
   "metadata": {},
   "outputs": [],
   "source": [
    "from sklearn.model_selection import train_test_split\n",
    "from sklearn.metrics import accuracy_score, confusion_matrix, classification_report"
   ]
  },
  {
   "cell_type": "code",
   "execution_count": 157,
   "metadata": {},
   "outputs": [],
   "source": [
    "# Split data\n",
    "X_la_train, X_la_test, y_la_train, y_la_test = train_test_split(X_la, y_la, test_size=0.3, random_state=42)\n",
    "X_ny_train, X_ny_test, y_ny_train, y_ny_test = train_test_split(X_ny, y_ny, test_size=0.3, random_state=42)"
   ]
  },
  {
   "cell_type": "markdown",
   "metadata": {},
   "source": [
    "### Logistic Regression"
   ]
  },
  {
   "cell_type": "code",
   "execution_count": 158,
   "metadata": {},
   "outputs": [],
   "source": [
    "from sklearn.linear_model import LogisticRegression"
   ]
  },
  {
   "cell_type": "code",
   "execution_count": 159,
   "metadata": {},
   "outputs": [
    {
     "data": {
      "text/html": [
       "<style>#sk-container-id-3 {\n",
       "  /* Definition of color scheme common for light and dark mode */\n",
       "  --sklearn-color-text: black;\n",
       "  --sklearn-color-line: gray;\n",
       "  /* Definition of color scheme for unfitted estimators */\n",
       "  --sklearn-color-unfitted-level-0: #fff5e6;\n",
       "  --sklearn-color-unfitted-level-1: #f6e4d2;\n",
       "  --sklearn-color-unfitted-level-2: #ffe0b3;\n",
       "  --sklearn-color-unfitted-level-3: chocolate;\n",
       "  /* Definition of color scheme for fitted estimators */\n",
       "  --sklearn-color-fitted-level-0: #f0f8ff;\n",
       "  --sklearn-color-fitted-level-1: #d4ebff;\n",
       "  --sklearn-color-fitted-level-2: #b3dbfd;\n",
       "  --sklearn-color-fitted-level-3: cornflowerblue;\n",
       "\n",
       "  /* Specific color for light theme */\n",
       "  --sklearn-color-text-on-default-background: var(--sg-text-color, var(--theme-code-foreground, var(--jp-content-font-color1, black)));\n",
       "  --sklearn-color-background: var(--sg-background-color, var(--theme-background, var(--jp-layout-color0, white)));\n",
       "  --sklearn-color-border-box: var(--sg-text-color, var(--theme-code-foreground, var(--jp-content-font-color1, black)));\n",
       "  --sklearn-color-icon: #696969;\n",
       "\n",
       "  @media (prefers-color-scheme: dark) {\n",
       "    /* Redefinition of color scheme for dark theme */\n",
       "    --sklearn-color-text-on-default-background: var(--sg-text-color, var(--theme-code-foreground, var(--jp-content-font-color1, white)));\n",
       "    --sklearn-color-background: var(--sg-background-color, var(--theme-background, var(--jp-layout-color0, #111)));\n",
       "    --sklearn-color-border-box: var(--sg-text-color, var(--theme-code-foreground, var(--jp-content-font-color1, white)));\n",
       "    --sklearn-color-icon: #878787;\n",
       "  }\n",
       "}\n",
       "\n",
       "#sk-container-id-3 {\n",
       "  color: var(--sklearn-color-text);\n",
       "}\n",
       "\n",
       "#sk-container-id-3 pre {\n",
       "  padding: 0;\n",
       "}\n",
       "\n",
       "#sk-container-id-3 input.sk-hidden--visually {\n",
       "  border: 0;\n",
       "  clip: rect(1px 1px 1px 1px);\n",
       "  clip: rect(1px, 1px, 1px, 1px);\n",
       "  height: 1px;\n",
       "  margin: -1px;\n",
       "  overflow: hidden;\n",
       "  padding: 0;\n",
       "  position: absolute;\n",
       "  width: 1px;\n",
       "}\n",
       "\n",
       "#sk-container-id-3 div.sk-dashed-wrapped {\n",
       "  border: 1px dashed var(--sklearn-color-line);\n",
       "  margin: 0 0.4em 0.5em 0.4em;\n",
       "  box-sizing: border-box;\n",
       "  padding-bottom: 0.4em;\n",
       "  background-color: var(--sklearn-color-background);\n",
       "}\n",
       "\n",
       "#sk-container-id-3 div.sk-container {\n",
       "  /* jupyter's `normalize.less` sets `[hidden] { display: none; }`\n",
       "     but bootstrap.min.css set `[hidden] { display: none !important; }`\n",
       "     so we also need the `!important` here to be able to override the\n",
       "     default hidden behavior on the sphinx rendered scikit-learn.org.\n",
       "     See: https://github.com/scikit-learn/scikit-learn/issues/21755 */\n",
       "  display: inline-block !important;\n",
       "  position: relative;\n",
       "}\n",
       "\n",
       "#sk-container-id-3 div.sk-text-repr-fallback {\n",
       "  display: none;\n",
       "}\n",
       "\n",
       "div.sk-parallel-item,\n",
       "div.sk-serial,\n",
       "div.sk-item {\n",
       "  /* draw centered vertical line to link estimators */\n",
       "  background-image: linear-gradient(var(--sklearn-color-text-on-default-background), var(--sklearn-color-text-on-default-background));\n",
       "  background-size: 2px 100%;\n",
       "  background-repeat: no-repeat;\n",
       "  background-position: center center;\n",
       "}\n",
       "\n",
       "/* Parallel-specific style estimator block */\n",
       "\n",
       "#sk-container-id-3 div.sk-parallel-item::after {\n",
       "  content: \"\";\n",
       "  width: 100%;\n",
       "  border-bottom: 2px solid var(--sklearn-color-text-on-default-background);\n",
       "  flex-grow: 1;\n",
       "}\n",
       "\n",
       "#sk-container-id-3 div.sk-parallel {\n",
       "  display: flex;\n",
       "  align-items: stretch;\n",
       "  justify-content: center;\n",
       "  background-color: var(--sklearn-color-background);\n",
       "  position: relative;\n",
       "}\n",
       "\n",
       "#sk-container-id-3 div.sk-parallel-item {\n",
       "  display: flex;\n",
       "  flex-direction: column;\n",
       "}\n",
       "\n",
       "#sk-container-id-3 div.sk-parallel-item:first-child::after {\n",
       "  align-self: flex-end;\n",
       "  width: 50%;\n",
       "}\n",
       "\n",
       "#sk-container-id-3 div.sk-parallel-item:last-child::after {\n",
       "  align-self: flex-start;\n",
       "  width: 50%;\n",
       "}\n",
       "\n",
       "#sk-container-id-3 div.sk-parallel-item:only-child::after {\n",
       "  width: 0;\n",
       "}\n",
       "\n",
       "/* Serial-specific style estimator block */\n",
       "\n",
       "#sk-container-id-3 div.sk-serial {\n",
       "  display: flex;\n",
       "  flex-direction: column;\n",
       "  align-items: center;\n",
       "  background-color: var(--sklearn-color-background);\n",
       "  padding-right: 1em;\n",
       "  padding-left: 1em;\n",
       "}\n",
       "\n",
       "\n",
       "/* Toggleable style: style used for estimator/Pipeline/ColumnTransformer box that is\n",
       "clickable and can be expanded/collapsed.\n",
       "- Pipeline and ColumnTransformer use this feature and define the default style\n",
       "- Estimators will overwrite some part of the style using the `sk-estimator` class\n",
       "*/\n",
       "\n",
       "/* Pipeline and ColumnTransformer style (default) */\n",
       "\n",
       "#sk-container-id-3 div.sk-toggleable {\n",
       "  /* Default theme specific background. It is overwritten whether we have a\n",
       "  specific estimator or a Pipeline/ColumnTransformer */\n",
       "  background-color: var(--sklearn-color-background);\n",
       "}\n",
       "\n",
       "/* Toggleable label */\n",
       "#sk-container-id-3 label.sk-toggleable__label {\n",
       "  cursor: pointer;\n",
       "  display: block;\n",
       "  width: 100%;\n",
       "  margin-bottom: 0;\n",
       "  padding: 0.5em;\n",
       "  box-sizing: border-box;\n",
       "  text-align: center;\n",
       "}\n",
       "\n",
       "#sk-container-id-3 label.sk-toggleable__label-arrow:before {\n",
       "  /* Arrow on the left of the label */\n",
       "  content: \"▸\";\n",
       "  float: left;\n",
       "  margin-right: 0.25em;\n",
       "  color: var(--sklearn-color-icon);\n",
       "}\n",
       "\n",
       "#sk-container-id-3 label.sk-toggleable__label-arrow:hover:before {\n",
       "  color: var(--sklearn-color-text);\n",
       "}\n",
       "\n",
       "/* Toggleable content - dropdown */\n",
       "\n",
       "#sk-container-id-3 div.sk-toggleable__content {\n",
       "  max-height: 0;\n",
       "  max-width: 0;\n",
       "  overflow: hidden;\n",
       "  text-align: left;\n",
       "  /* unfitted */\n",
       "  background-color: var(--sklearn-color-unfitted-level-0);\n",
       "}\n",
       "\n",
       "#sk-container-id-3 div.sk-toggleable__content.fitted {\n",
       "  /* fitted */\n",
       "  background-color: var(--sklearn-color-fitted-level-0);\n",
       "}\n",
       "\n",
       "#sk-container-id-3 div.sk-toggleable__content pre {\n",
       "  margin: 0.2em;\n",
       "  border-radius: 0.25em;\n",
       "  color: var(--sklearn-color-text);\n",
       "  /* unfitted */\n",
       "  background-color: var(--sklearn-color-unfitted-level-0);\n",
       "}\n",
       "\n",
       "#sk-container-id-3 div.sk-toggleable__content.fitted pre {\n",
       "  /* unfitted */\n",
       "  background-color: var(--sklearn-color-fitted-level-0);\n",
       "}\n",
       "\n",
       "#sk-container-id-3 input.sk-toggleable__control:checked~div.sk-toggleable__content {\n",
       "  /* Expand drop-down */\n",
       "  max-height: 200px;\n",
       "  max-width: 100%;\n",
       "  overflow: auto;\n",
       "}\n",
       "\n",
       "#sk-container-id-3 input.sk-toggleable__control:checked~label.sk-toggleable__label-arrow:before {\n",
       "  content: \"▾\";\n",
       "}\n",
       "\n",
       "/* Pipeline/ColumnTransformer-specific style */\n",
       "\n",
       "#sk-container-id-3 div.sk-label input.sk-toggleable__control:checked~label.sk-toggleable__label {\n",
       "  color: var(--sklearn-color-text);\n",
       "  background-color: var(--sklearn-color-unfitted-level-2);\n",
       "}\n",
       "\n",
       "#sk-container-id-3 div.sk-label.fitted input.sk-toggleable__control:checked~label.sk-toggleable__label {\n",
       "  background-color: var(--sklearn-color-fitted-level-2);\n",
       "}\n",
       "\n",
       "/* Estimator-specific style */\n",
       "\n",
       "/* Colorize estimator box */\n",
       "#sk-container-id-3 div.sk-estimator input.sk-toggleable__control:checked~label.sk-toggleable__label {\n",
       "  /* unfitted */\n",
       "  background-color: var(--sklearn-color-unfitted-level-2);\n",
       "}\n",
       "\n",
       "#sk-container-id-3 div.sk-estimator.fitted input.sk-toggleable__control:checked~label.sk-toggleable__label {\n",
       "  /* fitted */\n",
       "  background-color: var(--sklearn-color-fitted-level-2);\n",
       "}\n",
       "\n",
       "#sk-container-id-3 div.sk-label label.sk-toggleable__label,\n",
       "#sk-container-id-3 div.sk-label label {\n",
       "  /* The background is the default theme color */\n",
       "  color: var(--sklearn-color-text-on-default-background);\n",
       "}\n",
       "\n",
       "/* On hover, darken the color of the background */\n",
       "#sk-container-id-3 div.sk-label:hover label.sk-toggleable__label {\n",
       "  color: var(--sklearn-color-text);\n",
       "  background-color: var(--sklearn-color-unfitted-level-2);\n",
       "}\n",
       "\n",
       "/* Label box, darken color on hover, fitted */\n",
       "#sk-container-id-3 div.sk-label.fitted:hover label.sk-toggleable__label.fitted {\n",
       "  color: var(--sklearn-color-text);\n",
       "  background-color: var(--sklearn-color-fitted-level-2);\n",
       "}\n",
       "\n",
       "/* Estimator label */\n",
       "\n",
       "#sk-container-id-3 div.sk-label label {\n",
       "  font-family: monospace;\n",
       "  font-weight: bold;\n",
       "  display: inline-block;\n",
       "  line-height: 1.2em;\n",
       "}\n",
       "\n",
       "#sk-container-id-3 div.sk-label-container {\n",
       "  text-align: center;\n",
       "}\n",
       "\n",
       "/* Estimator-specific */\n",
       "#sk-container-id-3 div.sk-estimator {\n",
       "  font-family: monospace;\n",
       "  border: 1px dotted var(--sklearn-color-border-box);\n",
       "  border-radius: 0.25em;\n",
       "  box-sizing: border-box;\n",
       "  margin-bottom: 0.5em;\n",
       "  /* unfitted */\n",
       "  background-color: var(--sklearn-color-unfitted-level-0);\n",
       "}\n",
       "\n",
       "#sk-container-id-3 div.sk-estimator.fitted {\n",
       "  /* fitted */\n",
       "  background-color: var(--sklearn-color-fitted-level-0);\n",
       "}\n",
       "\n",
       "/* on hover */\n",
       "#sk-container-id-3 div.sk-estimator:hover {\n",
       "  /* unfitted */\n",
       "  background-color: var(--sklearn-color-unfitted-level-2);\n",
       "}\n",
       "\n",
       "#sk-container-id-3 div.sk-estimator.fitted:hover {\n",
       "  /* fitted */\n",
       "  background-color: var(--sklearn-color-fitted-level-2);\n",
       "}\n",
       "\n",
       "/* Specification for estimator info (e.g. \"i\" and \"?\") */\n",
       "\n",
       "/* Common style for \"i\" and \"?\" */\n",
       "\n",
       ".sk-estimator-doc-link,\n",
       "a:link.sk-estimator-doc-link,\n",
       "a:visited.sk-estimator-doc-link {\n",
       "  float: right;\n",
       "  font-size: smaller;\n",
       "  line-height: 1em;\n",
       "  font-family: monospace;\n",
       "  background-color: var(--sklearn-color-background);\n",
       "  border-radius: 1em;\n",
       "  height: 1em;\n",
       "  width: 1em;\n",
       "  text-decoration: none !important;\n",
       "  margin-left: 1ex;\n",
       "  /* unfitted */\n",
       "  border: var(--sklearn-color-unfitted-level-1) 1pt solid;\n",
       "  color: var(--sklearn-color-unfitted-level-1);\n",
       "}\n",
       "\n",
       ".sk-estimator-doc-link.fitted,\n",
       "a:link.sk-estimator-doc-link.fitted,\n",
       "a:visited.sk-estimator-doc-link.fitted {\n",
       "  /* fitted */\n",
       "  border: var(--sklearn-color-fitted-level-1) 1pt solid;\n",
       "  color: var(--sklearn-color-fitted-level-1);\n",
       "}\n",
       "\n",
       "/* On hover */\n",
       "div.sk-estimator:hover .sk-estimator-doc-link:hover,\n",
       ".sk-estimator-doc-link:hover,\n",
       "div.sk-label-container:hover .sk-estimator-doc-link:hover,\n",
       ".sk-estimator-doc-link:hover {\n",
       "  /* unfitted */\n",
       "  background-color: var(--sklearn-color-unfitted-level-3);\n",
       "  color: var(--sklearn-color-background);\n",
       "  text-decoration: none;\n",
       "}\n",
       "\n",
       "div.sk-estimator.fitted:hover .sk-estimator-doc-link.fitted:hover,\n",
       ".sk-estimator-doc-link.fitted:hover,\n",
       "div.sk-label-container:hover .sk-estimator-doc-link.fitted:hover,\n",
       ".sk-estimator-doc-link.fitted:hover {\n",
       "  /* fitted */\n",
       "  background-color: var(--sklearn-color-fitted-level-3);\n",
       "  color: var(--sklearn-color-background);\n",
       "  text-decoration: none;\n",
       "}\n",
       "\n",
       "/* Span, style for the box shown on hovering the info icon */\n",
       ".sk-estimator-doc-link span {\n",
       "  display: none;\n",
       "  z-index: 9999;\n",
       "  position: relative;\n",
       "  font-weight: normal;\n",
       "  right: .2ex;\n",
       "  padding: .5ex;\n",
       "  margin: .5ex;\n",
       "  width: min-content;\n",
       "  min-width: 20ex;\n",
       "  max-width: 50ex;\n",
       "  color: var(--sklearn-color-text);\n",
       "  box-shadow: 2pt 2pt 4pt #999;\n",
       "  /* unfitted */\n",
       "  background: var(--sklearn-color-unfitted-level-0);\n",
       "  border: .5pt solid var(--sklearn-color-unfitted-level-3);\n",
       "}\n",
       "\n",
       ".sk-estimator-doc-link.fitted span {\n",
       "  /* fitted */\n",
       "  background: var(--sklearn-color-fitted-level-0);\n",
       "  border: var(--sklearn-color-fitted-level-3);\n",
       "}\n",
       "\n",
       ".sk-estimator-doc-link:hover span {\n",
       "  display: block;\n",
       "}\n",
       "\n",
       "/* \"?\"-specific style due to the `<a>` HTML tag */\n",
       "\n",
       "#sk-container-id-3 a.estimator_doc_link {\n",
       "  float: right;\n",
       "  font-size: 1rem;\n",
       "  line-height: 1em;\n",
       "  font-family: monospace;\n",
       "  background-color: var(--sklearn-color-background);\n",
       "  border-radius: 1rem;\n",
       "  height: 1rem;\n",
       "  width: 1rem;\n",
       "  text-decoration: none;\n",
       "  /* unfitted */\n",
       "  color: var(--sklearn-color-unfitted-level-1);\n",
       "  border: var(--sklearn-color-unfitted-level-1) 1pt solid;\n",
       "}\n",
       "\n",
       "#sk-container-id-3 a.estimator_doc_link.fitted {\n",
       "  /* fitted */\n",
       "  border: var(--sklearn-color-fitted-level-1) 1pt solid;\n",
       "  color: var(--sklearn-color-fitted-level-1);\n",
       "}\n",
       "\n",
       "/* On hover */\n",
       "#sk-container-id-3 a.estimator_doc_link:hover {\n",
       "  /* unfitted */\n",
       "  background-color: var(--sklearn-color-unfitted-level-3);\n",
       "  color: var(--sklearn-color-background);\n",
       "  text-decoration: none;\n",
       "}\n",
       "\n",
       "#sk-container-id-3 a.estimator_doc_link.fitted:hover {\n",
       "  /* fitted */\n",
       "  background-color: var(--sklearn-color-fitted-level-3);\n",
       "}\n",
       "</style><div id=\"sk-container-id-3\" class=\"sk-top-container\"><div class=\"sk-text-repr-fallback\"><pre>LogisticRegression()</pre><b>In a Jupyter environment, please rerun this cell to show the HTML representation or trust the notebook. <br />On GitHub, the HTML representation is unable to render, please try loading this page with nbviewer.org.</b></div><div class=\"sk-container\" hidden><div class=\"sk-item\"><div class=\"sk-estimator fitted sk-toggleable\"><input class=\"sk-toggleable__control sk-hidden--visually\" id=\"sk-estimator-id-3\" type=\"checkbox\" checked><label for=\"sk-estimator-id-3\" class=\"sk-toggleable__label fitted sk-toggleable__label-arrow fitted\">&nbsp;&nbsp;LogisticRegression<a class=\"sk-estimator-doc-link fitted\" rel=\"noreferrer\" target=\"_blank\" href=\"https://scikit-learn.org/1.5/modules/generated/sklearn.linear_model.LogisticRegression.html\">?<span>Documentation for LogisticRegression</span></a><span class=\"sk-estimator-doc-link fitted\">i<span>Fitted</span></span></label><div class=\"sk-toggleable__content fitted\"><pre>LogisticRegression()</pre></div> </div></div></div></div>"
      ],
      "text/plain": [
       "LogisticRegression()"
      ]
     },
     "execution_count": 159,
     "metadata": {},
     "output_type": "execute_result"
    }
   ],
   "source": [
    "lr_la = LogisticRegression()\n",
    "lr_la.fit(X_la_train, y_la_train)\n",
    "lr_ny = LogisticRegression()\n",
    "lr_ny.fit(X_ny_train, y_ny_train)"
   ]
  },
  {
   "cell_type": "code",
   "execution_count": 160,
   "metadata": {},
   "outputs": [],
   "source": [
    "y_pred_la = lr_la.predict(X_la_test)\n",
    "y_pred_ny = lr_ny.predict(X_ny_test)"
   ]
  },
  {
   "cell_type": "code",
   "execution_count": 161,
   "metadata": {},
   "outputs": [
    {
     "name": "stdout",
     "output_type": "stream",
     "text": [
      "Accuracy, Los Angeles: 0.6820877817319099\n",
      "\n",
      "Confusion Matrix, Los Angeles:\n",
      " [[7640  218]\n",
      " [3802  985]]\n",
      "\n",
      "Classification Report, Los Angeles:\n",
      "               precision    recall  f1-score   support\n",
      "\n",
      "           0       0.67      0.97      0.79      7858\n",
      "           1       0.82      0.21      0.33      4787\n",
      "\n",
      "    accuracy                           0.68     12645\n",
      "   macro avg       0.74      0.59      0.56     12645\n",
      "weighted avg       0.72      0.68      0.62     12645\n",
      "\n"
     ]
    }
   ],
   "source": [
    "# model validation\n",
    "accuracy_la = accuracy_score(y_la_test, y_pred_la)\n",
    "conf_matrix_la = confusion_matrix(y_la_test, y_pred_la)\n",
    "report_la = classification_report(y_la_test, y_pred_la)\n",
    "\n",
    "print(\"Accuracy, Los Angeles:\", accuracy_la)\n",
    "print(\"\\nConfusion Matrix, Los Angeles:\\n\", conf_matrix_la)\n",
    "print(\"\\nClassification Report, Los Angeles:\\n\", report_la)"
   ]
  },
  {
   "cell_type": "markdown",
   "metadata": {},
   "source": [
    "#### Summary of Logistic Regression result, LA\n",
    "- Label \"low\", 0, price < $50 by each night\n",
    " Precision: 0.67, the ratio of correctly predicted instances of \"low\" out of all instances predicted \"low\". 67% of the prediction of \"low\" were correct in all prediction. Soso nice\n",
    " Recall: 0.97, the ratio of correctly predicted instances of \"low\" out of all instances actual \"low\" 97% of the prediction of \"low\" were correct in all actual. Absolutely nice.\n",
    " F1 score: 0.79, Overall evaluation with consideration of precision and recall. aroun 80% is pretty good.\n",
    "\n",
    "- Label \"high\", 0, price >= $50 by each night\n",
    " Precision: 0.82, the ratio of correctly predicted instances of \"high\" out of all instances predicted \"high\". 82% of the prediction of \"low\" were correct in all prediction. Pretty good\n",
    " Recall: 0.21, the ratio of correctly predicted instances of \"high\" out of all instances actual \"high\". 21% of the prediction of \"low\" were correct in all actual. So bad, assume this affect the overall accuracy.\n",
    " F1 score: 0.33, Overall evaluation with consideration of precision and recall. 33% is pretty bad.\n",
    "\n",
    "=> Prediction for label 1 is low...."
   ]
  },
  {
   "cell_type": "code",
   "execution_count": 227,
   "metadata": {},
   "outputs": [
    {
     "name": "stdout",
     "output_type": "stream",
     "text": [
      "                          Feature  Coefficient\n",
      "1             roomtype_Hotel room     2.865669\n",
      "0        roomtype_Entire home/apt     2.041150\n",
      "2           roomtype_Private room     1.524629\n",
      "3           number_of_reviews_ltm     1.189014\n",
      "4                availability_365     0.092600\n",
      "5        days_from_last_review_23    -0.558482\n",
      "6  calculated_host_listings_count    -3.190102\n"
     ]
    }
   ],
   "source": [
    "# obtain coefficients\n",
    "coefficients_la = lr_la.coef_[0]  # yが2クラスの場合\n",
    "feature_names_la = X_la_train.columns\n",
    "\n",
    "# Aggregate coefficients into a dataframe\n",
    "coeff_df_la = pd.DataFrame({\n",
    "    'Feature': feature_names_la,\n",
    "    'Coefficient': coefficients_la\n",
    "})\n",
    "\n",
    "# sort by importances\n",
    "coeff_df_la = coeff_df_la.sort_values(by='Coefficient', ascending=False)\n",
    "print(coeff_df_la)"
   ]
  },
  {
   "cell_type": "code",
   "execution_count": 228,
   "metadata": {},
   "outputs": [
    {
     "name": "stdout",
     "output_type": "stream",
     "text": [
      "-2.3257694498823045\n"
     ]
    }
   ],
   "source": [
    "# Intercept\n",
    "print(lr_la.intercept_[0])"
   ]
  },
  {
   "cell_type": "code",
   "execution_count": 180,
   "metadata": {},
   "outputs": [
    {
     "name": "stdout",
     "output_type": "stream",
     "text": [
      "Accuracy, Los Angeles: 0.7055071561916615\n",
      "\n",
      "Confusion Matrix, Los Angeles:\n",
      " [[7716  806]\n",
      " [2980 1354]]\n",
      "\n",
      "Classification Report, Los Angeles:\n",
      "               precision    recall  f1-score   support\n",
      "\n",
      "           0       0.72      0.91      0.80      8522\n",
      "           1       0.63      0.31      0.42      4334\n",
      "\n",
      "    accuracy                           0.71     12856\n",
      "   macro avg       0.67      0.61      0.61     12856\n",
      "weighted avg       0.69      0.71      0.67     12856\n",
      "\n"
     ]
    }
   ],
   "source": [
    "# model validation\n",
    "accuracy_ny = accuracy_score(y_ny_test, y_pred_ny)\n",
    "conf_matrix_ny = confusion_matrix(y_ny_test, y_pred_ny)\n",
    "report_ny = classification_report(y_ny_test, y_pred_ny)\n",
    "\n",
    "print(\"Accuracy, Los Angeles:\", accuracy_ny)\n",
    "print(\"\\nConfusion Matrix, Los Angeles:\\n\", conf_matrix_ny)\n",
    "print(\"\\nClassification Report, Los Angeles:\\n\", report_ny)"
   ]
  },
  {
   "cell_type": "markdown",
   "metadata": {},
   "source": [
    "#### Summary of Logistic Regression result, NY\n",
    "- Label \"low\", 0, price < $50 by each night\n",
    " Precision: 0.72, the ratio of correctly predicted instances of \"low\" out of all instances predicted \"low\". 72% of the prediction of \"low\" were correct in all prediction. Soso nice\n",
    " Recall: 0.91, the ratio of correctly predicted instances of \"low\" out of all instances actual \"low\" 91% of the prediction of \"low\" were correct in all actual. Absolutely nice.\n",
    " F1 score: 0.80, Overall evaluation with consideration of precision and recall. aroun 0.80 is pretty good.\n",
    "\n",
    "- Label \"high\", 0, price >= $50 by each night\n",
    " Precision: 0.63, the ratio of correctly predicted instances of \"high\" out of all instances predicted \"high\". 63% of the prediction of \"low\" were correct in all prediction. Pretty good\n",
    " Recall: 0.31, the ratio of correctly predicted instances of \"high\" out of all instances actual \"high\". 31% of the prediction of \"low\" were correct in all actual. So bad, assume this affect the overall accuracy.\n",
    " F1 score: 0.42, Overall evaluation with consideration of precision and recall. 0,42 is pretty bad.\n",
    "\n",
    "=> Prediction for label 1 is low as well.... Seems model for New York is more balanced compared to LA."
   ]
  },
  {
   "cell_type": "code",
   "execution_count": 229,
   "metadata": {},
   "outputs": [
    {
     "name": "stdout",
     "output_type": "stream",
     "text": [
      "                          Feature  Coefficient\n",
      "1             roomtype_Hotel room     2.250938\n",
      "3           number_of_reviews_ltm     1.108923\n",
      "0        roomtype_Entire home/apt     0.978211\n",
      "2           roomtype_Private room     0.542735\n",
      "4                availability_365     0.318321\n",
      "6  calculated_host_listings_count    -0.308036\n",
      "5        days_from_last_review_23    -0.893895\n"
     ]
    }
   ],
   "source": [
    "# obtain coefficients\n",
    "coefficients_ny = lr_ny.coef_[0]  # yが2クラスの場合\n",
    "feature_names_ny = X_ny_train.columns\n",
    "\n",
    "# Aggregate coefficients into a dataframe\n",
    "coeff_df_ny = pd.DataFrame({\n",
    "    'Feature': feature_names_ny,\n",
    "    'Coefficient': coefficients_ny\n",
    "})\n",
    "\n",
    "# sort by importances\n",
    "coeff_df_ny = coeff_df_ny.sort_values(by='Coefficient', ascending=False)\n",
    "print(coeff_df_ny)"
   ]
  },
  {
   "cell_type": "code",
   "execution_count": 230,
   "metadata": {},
   "outputs": [
    {
     "name": "stdout",
     "output_type": "stream",
     "text": [
      "-1.258591457142967\n"
     ]
    }
   ],
   "source": [
    "# Intercept\n",
    "print(lr_ny.intercept_[0])"
   ]
  },
  {
   "cell_type": "markdown",
   "metadata": {},
   "source": [
    "## GridSearch for Logistic Regression"
   ]
  },
  {
   "cell_type": "code",
   "execution_count": 173,
   "metadata": {},
   "outputs": [],
   "source": [
    "from sklearn.model_selection import GridSearchCV"
   ]
  },
  {
   "cell_type": "code",
   "execution_count": 174,
   "metadata": {},
   "outputs": [],
   "source": [
    "param_grid = {\n",
    "    \"C\": [0.01, 0.1, 1, 10, 100],\n",
    "    \"max_iter\": [100, 200, 300, 400, 500]\n",
    "}"
   ]
  },
  {
   "cell_type": "code",
   "execution_count": 176,
   "metadata": {},
   "outputs": [
    {
     "name": "stdout",
     "output_type": "stream",
     "text": [
      "Best Parameters for Logistic Regression (LA): {'C': 10, 'max_iter': 100}\n",
      "Best Score for Logistic Regression (LA): 0.6785416032485398\n"
     ]
    }
   ],
   "source": [
    "# Grid search with cross validation\n",
    "grid_search_la = GridSearchCV(LogisticRegression(), param_grid, cv=10, n_jobs=-1)\n",
    "grid_search_la.fit(X_la_train, y_la_train)\n",
    "\n",
    "# Show the best parameter and score\n",
    "print(\"Best Parameters for Logistic Regression (LA):\", grid_search_la.best_params_)\n",
    "print(\"Best Score for Logistic Regression (LA):\", grid_search_la.best_score_)\n",
    "\n",
    "# predict with the best model\n",
    "y_pred_la_grid = grid_search_la.best_estimator_.predict(X_la_test)"
   ]
  },
  {
   "cell_type": "code",
   "execution_count": 177,
   "metadata": {},
   "outputs": [
    {
     "name": "stdout",
     "output_type": "stream",
     "text": [
      "Accuracy, Los Angeles: 0.6820877817319099\n",
      "\n",
      "Confusion Matrix, Los Angeles:\n",
      " [[7639  219]\n",
      " [3801  986]]\n",
      "\n",
      "Classification Report, Los Angeles:\n",
      "               precision    recall  f1-score   support\n",
      "\n",
      "           0       0.67      0.97      0.79      7858\n",
      "           1       0.82      0.21      0.33      4787\n",
      "\n",
      "    accuracy                           0.68     12645\n",
      "   macro avg       0.74      0.59      0.56     12645\n",
      "weighted avg       0.72      0.68      0.62     12645\n",
      "\n"
     ]
    }
   ],
   "source": [
    "# model validation\n",
    "accuracy_la_grid = accuracy_score(y_la_test, y_pred_la_grid)\n",
    "conf_matrix_la_grid = confusion_matrix(y_la_test, y_pred_la_grid)\n",
    "report_la_grid = classification_report(y_la_test, y_pred_la_grid)\n",
    "\n",
    "print(\"Accuracy, Los Angeles:\", accuracy_la_grid)\n",
    "print(\"\\nConfusion Matrix, Los Angeles:\\n\", conf_matrix_la_grid)\n",
    "print(\"\\nClassification Report, Los Angeles:\\n\", report_la_grid)"
   ]
  },
  {
   "cell_type": "code",
   "execution_count": 181,
   "metadata": {},
   "outputs": [
    {
     "name": "stdout",
     "output_type": "stream",
     "text": [
      "Best Parameters for Logistic Regression (NY): {'C': 10, 'max_iter': 100}\n",
      "Best Score for Logistic Regression (NY): 0.6980497165721908\n"
     ]
    }
   ],
   "source": [
    "# Grid search with cross validation\n",
    "grid_search_ny = GridSearchCV(LogisticRegression(), param_grid, cv=10, n_jobs=-1)\n",
    "grid_search_ny.fit(X_ny_train, y_ny_train)\n",
    "\n",
    "# Show the best parameter and score\n",
    "print(\"Best Parameters for Logistic Regression (NY):\", grid_search_ny.best_params_)\n",
    "print(\"Best Score for Logistic Regression (NY):\", grid_search_ny.best_score_)\n",
    "\n",
    "# predict with the best model\n",
    "y_pred_ny_grid = grid_search_ny.best_estimator_.predict(X_ny_test)"
   ]
  },
  {
   "cell_type": "code",
   "execution_count": 182,
   "metadata": {},
   "outputs": [
    {
     "name": "stdout",
     "output_type": "stream",
     "text": [
      "Accuracy, New York: 0.7055071561916615\n",
      "\n",
      "Confusion Matrix, New York:\n",
      " [[7716  806]\n",
      " [2980 1354]]\n",
      "\n",
      "Classification Report, New York:\n",
      "               precision    recall  f1-score   support\n",
      "\n",
      "           0       0.72      0.91      0.80      8522\n",
      "           1       0.63      0.31      0.42      4334\n",
      "\n",
      "    accuracy                           0.71     12856\n",
      "   macro avg       0.67      0.61      0.61     12856\n",
      "weighted avg       0.69      0.71      0.67     12856\n",
      "\n"
     ]
    }
   ],
   "source": [
    "# model validation\n",
    "accuracy_ny_grid = accuracy_score(y_ny_test, y_pred_ny_grid)\n",
    "conf_matrix_ny_grid = confusion_matrix(y_ny_test, y_pred_ny_grid)\n",
    "report_ny_grid = classification_report(y_ny_test, y_pred_ny_grid)\n",
    "\n",
    "print(\"Accuracy, New York:\", accuracy_ny_grid)\n",
    "print(\"\\nConfusion Matrix, New York:\\n\", conf_matrix_ny_grid)\n",
    "print(\"\\nClassification Report, New York:\\n\", report_ny_grid)"
   ]
  },
  {
   "cell_type": "markdown",
   "metadata": {},
   "source": [
    "No difference, let's search another model, and redo feature engineering"
   ]
  },
  {
   "cell_type": "markdown",
   "metadata": {},
   "source": [
    "## Decision Tree"
   ]
  },
  {
   "cell_type": "code",
   "execution_count": 179,
   "metadata": {},
   "outputs": [],
   "source": [
    "from sklearn.tree import DecisionTreeClassifier"
   ]
  },
  {
   "cell_type": "code",
   "execution_count": 185,
   "metadata": {},
   "outputs": [],
   "source": [
    "dt = DecisionTreeClassifier(criterion=\"entropy\", random_state=42)\n",
    "dt_la = dt.fit(X_la_train, y_la_train)\n",
    "y_pred_dt_la = dt_la.predict(X_la_test)\n",
    "dt_ny = dt.fit(X_ny_train, y_ny_train)\n",
    "y_pred_dt_ny = dt_ny.predict(X_ny_test)"
   ]
  },
  {
   "cell_type": "code",
   "execution_count": 187,
   "metadata": {},
   "outputs": [
    {
     "name": "stdout",
     "output_type": "stream",
     "text": [
      "Accuracy, Los Angeles: 0.6821668643732701\n",
      "\n",
      "Confusion Matrix, Los Angeles:\n",
      " [[7652  206]\n",
      " [3813  974]]\n",
      "\n",
      "Classification Report, Los Angeles:\n",
      "               precision    recall  f1-score   support\n",
      "\n",
      "           0       0.67      0.97      0.79      7858\n",
      "           1       0.83      0.20      0.33      4787\n",
      "\n",
      "    accuracy                           0.68     12645\n",
      "   macro avg       0.75      0.59      0.56     12645\n",
      "weighted avg       0.73      0.68      0.62     12645\n",
      "\n"
     ]
    }
   ],
   "source": [
    "# model validation\n",
    "accuracy_la_dt = accuracy_score(y_la_test, y_pred_dt_la)\n",
    "conf_matrix_la_dt = confusion_matrix(y_la_test, y_pred_dt_la)\n",
    "report_la_dt = classification_report(y_la_test, y_pred_dt_la)\n",
    "\n",
    "print(\"Accuracy, Los Angeles:\", accuracy_la_dt)\n",
    "print(\"\\nConfusion Matrix, Los Angeles:\\n\", conf_matrix_la_dt)\n",
    "print(\"\\nClassification Report, Los Angeles:\\n\", report_la_dt)"
   ]
  },
  {
   "cell_type": "code",
   "execution_count": 189,
   "metadata": {},
   "outputs": [
    {
     "name": "stdout",
     "output_type": "stream",
     "text": [
      "Accuracy, New York: 0.7140634723086496\n",
      "\n",
      "Confusion Matrix, New York:\n",
      " [[8333  189]\n",
      " [3487  847]]\n",
      "\n",
      "Classification Report, New York:\n",
      "               precision    recall  f1-score   support\n",
      "\n",
      "           0       0.70      0.98      0.82      8522\n",
      "           1       0.82      0.20      0.32      4334\n",
      "\n",
      "    accuracy                           0.71     12856\n",
      "   macro avg       0.76      0.59      0.57     12856\n",
      "weighted avg       0.74      0.71      0.65     12856\n",
      "\n"
     ]
    }
   ],
   "source": [
    "# model validation\n",
    "accuracy_ny_dt = accuracy_score(y_ny_test, y_pred_dt_ny)\n",
    "conf_matrix_ny_dt = confusion_matrix(y_ny_test, y_pred_dt_ny)\n",
    "report_ny_dt = classification_report(y_ny_test, y_pred_dt_ny)\n",
    "\n",
    "print(\"Accuracy, New York:\", accuracy_ny_dt)\n",
    "print(\"\\nConfusion Matrix, New York:\\n\", conf_matrix_ny_dt)\n",
    "print(\"\\nClassification Report, New York:\\n\", report_ny_dt)"
   ]
  },
  {
   "cell_type": "markdown",
   "metadata": {},
   "source": [
    "No huge difference between Logistic Regression and Decision Tree, meaning that model does not matter, featuer engineering. we wanna know which attributes is affecting most. For New York, Decision Tree is bit better than Logistic Regression."
   ]
  },
  {
   "cell_type": "markdown",
   "metadata": {},
   "source": [
    "## Grid Search for Decision Tree"
   ]
  },
  {
   "cell_type": "code",
   "execution_count": 191,
   "metadata": {},
   "outputs": [],
   "source": [
    "# parameters\n",
    "param_grid_dt = {\n",
    "    'max_depth': [3, 5, 10, None],\n",
    "    'min_samples_split': [2, 5, 10],\n",
    "    'min_samples_leaf': [1, 2, 4],\n",
    "    'max_features': [None, 'sqrt', 'log2']\n",
    "}"
   ]
  },
  {
   "cell_type": "code",
   "execution_count": 193,
   "metadata": {},
   "outputs": [
    {
     "name": "stdout",
     "output_type": "stream",
     "text": [
      "Best parameters found by GridSearchCV: {'max_depth': 10, 'max_features': 'sqrt', 'min_samples_leaf': 2, 'min_samples_split': 10}\n",
      "Optimized Decision Tree Accuracy: 0.6822\n",
      "Original Model Accuracy: 0.6822\n"
     ]
    }
   ],
   "source": [
    "# Optimization of parameters\n",
    "grid_search_la_dt = GridSearchCV(DecisionTreeClassifier(criterion = \"entropy\",random_state=42), param_grid_dt, cv=10, n_jobs=-1)\n",
    "grid_search_la_dt.fit(X_la_train, y_la_train)\n",
    "\n",
    "# Display best parameters\n",
    "print(\"Best parameters found by GridSearchCV:\", grid_search_la_dt.best_params_)\n",
    "\n",
    "# Predict with best model\n",
    "y_pred_dt_optimized_la = grid_search_la_dt.best_estimator_.predict(X_la_test)\n",
    "\n",
    "# 精度評価\n",
    "accuracy_optimized_la_dt = accuracy_score(y_la_test, y_pred_dt_optimized_la)\n",
    "print(f\"Optimized Decision Tree Accuracy: {accuracy_optimized_la_dt:.4f}\")\n",
    "print(f\"Original Model Accuracy: {accuracy_la_dt:.4f}\")"
   ]
  },
  {
   "cell_type": "code",
   "execution_count": 196,
   "metadata": {},
   "outputs": [
    {
     "name": "stdout",
     "output_type": "stream",
     "text": [
      "Best parameters found by GridSearchCV: {'max_depth': None, 'max_features': 'sqrt', 'min_samples_leaf': 4, 'min_samples_split': 2}\n",
      "Optimized Decision Tree Accuracy: 0.7076\n",
      "Original Model Accuracy: 0.7141\n"
     ]
    }
   ],
   "source": [
    "# Optimization of parameters\n",
    "grid_search_ny_dt = GridSearchCV(DecisionTreeClassifier(criterion = \"entropy\",random_state=42), param_grid_dt, cv=10, n_jobs=-1)\n",
    "grid_search_ny_dt.fit(X_ny_train, y_ny_train)\n",
    "\n",
    "# Display best parameters\n",
    "print(\"Best parameters found by GridSearchCV:\", grid_search_ny_dt.best_params_)\n",
    "\n",
    "# Predict with best model\n",
    "y_pred_dt_optimized_ny= grid_search_la_dt.best_estimator_.predict(X_ny_test)\n",
    "\n",
    "# 精度評価\n",
    "accuracy_optimized_ny_dt = accuracy_score(y_ny_test, y_pred_dt_optimized_ny)\n",
    "print(f\"Optimized Decision Tree Accuracy: {accuracy_optimized_ny_dt:.4f}\")\n",
    "print(f\"Original Model Accuracy: {accuracy_ny_dt:.4f}\")"
   ]
  },
  {
   "cell_type": "markdown",
   "metadata": {},
   "source": [
    "=> For Los Angeles, Overfitting????"
   ]
  },
  {
   "cell_type": "markdown",
   "metadata": {},
   "source": [
    "## Ensemble Learning, RandomForest"
   ]
  },
  {
   "cell_type": "code",
   "execution_count": 197,
   "metadata": {},
   "outputs": [],
   "source": [
    "from sklearn.ensemble import RandomForestClassifier"
   ]
  },
  {
   "cell_type": "code",
   "execution_count": 198,
   "metadata": {},
   "outputs": [
    {
     "name": "stdout",
     "output_type": "stream",
     "text": [
      "Accuracy of Random Forest model: 0.6822\n",
      "Original Model Accuracy: 0.6822\n"
     ]
    }
   ],
   "source": [
    "# Random Forest Model\n",
    "rf = RandomForestClassifier(criterion=\"entropy\", n_estimators=100, random_state=42)\n",
    "\n",
    "# training\n",
    "rf_la=rf.fit(X_la_train, y_la_train)\n",
    "\n",
    "# Prediction\n",
    "y_pred_rf_la = rf_la.predict(X_la_test)\n",
    "\n",
    "# accuracy check\n",
    "accuracy_rf_la = accuracy_score(y_la_test, y_pred_rf_la)\n",
    "print(f\"Accuracy of Random Forest model: {accuracy_rf_la:.4f}\")\n",
    "print(f\"Original Model Accuracy: {accuracy_la_dt:.4f}\")"
   ]
  },
  {
   "cell_type": "code",
   "execution_count": 225,
   "metadata": {},
   "outputs": [
    {
     "name": "stdout",
     "output_type": "stream",
     "text": [
      "                          Feature  Importance\n",
      "3           number_of_reviews_ltm    0.355932\n",
      "6  calculated_host_listings_count    0.280510\n",
      "5        days_from_last_review_23    0.186786\n",
      "0        roomtype_Entire home/apt    0.078407\n",
      "2           roomtype_Private room    0.046970\n",
      "4                availability_365    0.036909\n",
      "1             roomtype_Hotel room    0.014486\n"
     ]
    }
   ],
   "source": [
    "feature_importances_la = rf_la.feature_importances_\n",
    "\n",
    "# Aggegate Feature & Importances into data frame\n",
    "importance_df_la = pd.DataFrame({\n",
    "    'Feature': X_la_train.columns,\n",
    "    'Importance': feature_importances_la\n",
    "})\n",
    "\n",
    "# Sort by imortances\n",
    "importance_df_la = importance_df_la.sort_values(by='Importance', ascending=False)\n",
    "print(importance_df_la)"
   ]
  },
  {
   "cell_type": "code",
   "execution_count": 200,
   "metadata": {},
   "outputs": [
    {
     "name": "stdout",
     "output_type": "stream",
     "text": [
      "Accuracy of Random Forest model: 0.7142\n",
      "Original Model Accuracy: 0.7141\n"
     ]
    }
   ],
   "source": [
    "# Random Forest Model\n",
    "rf = RandomForestClassifier(criterion=\"entropy\", n_estimators=100, random_state=42)\n",
    "\n",
    "# 学習\n",
    "rf_ny=rf.fit(X_ny_train, y_ny_train)\n",
    "\n",
    "# 予測\n",
    "y_pred_rf_ny = rf_ny.predict(X_ny_test)\n",
    "\n",
    "# 精度評価\n",
    "accuracy_rf_ny = accuracy_score(y_ny_test, y_pred_rf_ny)\n",
    "print(f\"Accuracy of Random Forest model: {accuracy_rf_ny:.4f}\")\n",
    "print(f\"Original Model Accuracy: {accuracy_ny_dt:.4f}\")"
   ]
  },
  {
   "cell_type": "code",
   "execution_count": 226,
   "metadata": {},
   "outputs": [
    {
     "name": "stdout",
     "output_type": "stream",
     "text": [
      "                          Feature  Importance\n",
      "5        days_from_last_review_23    0.395608\n",
      "3           number_of_reviews_ltm    0.207535\n",
      "6  calculated_host_listings_count    0.169007\n",
      "4                availability_365    0.148286\n",
      "0        roomtype_Entire home/apt    0.035814\n",
      "2           roomtype_Private room    0.024329\n",
      "1             roomtype_Hotel room    0.019421\n"
     ]
    }
   ],
   "source": [
    "feature_importances_ny = rf_ny.feature_importances_\n",
    "\n",
    "# Aggegate Feature & Importances into data frame\n",
    "importance_df_ny = pd.DataFrame({\n",
    "    'Feature': X_ny_train.columns,\n",
    "    'Importance': feature_importances_ny\n",
    "})\n",
    "\n",
    "# Sort by imortances\n",
    "importance_df_ny = importance_df_ny.sort_values(by='Importance', ascending=False)\n",
    "print(importance_df_ny)"
   ]
  },
  {
   "cell_type": "markdown",
   "metadata": {},
   "source": [
    "## Feature Selection"
   ]
  },
  {
   "cell_type": "code",
   "execution_count": 217,
   "metadata": {},
   "outputs": [],
   "source": [
    "from mlxtend.feature_selection import SequentialFeatureSelector as sfs"
   ]
  },
  {
   "cell_type": "code",
   "execution_count": 220,
   "metadata": {},
   "outputs": [
    {
     "data": {
      "text/plain": [
       "(29503, 7)"
      ]
     },
     "execution_count": 220,
     "metadata": {},
     "output_type": "execute_result"
    }
   ],
   "source": [
    "X_la_train.shape"
   ]
  },
  {
   "cell_type": "code",
   "execution_count": 221,
   "metadata": {},
   "outputs": [
    {
     "name": "stderr",
     "output_type": "stream",
     "text": [
      "[Parallel(n_jobs=-1)]: Using backend LokyBackend with 8 concurrent workers.\n",
      "[Parallel(n_jobs=-1)]: Done   4 out of   7 | elapsed:    5.3s remaining:    4.0s\n",
      "[Parallel(n_jobs=-1)]: Done   7 out of   7 | elapsed:    5.4s finished\n",
      "\n",
      "[2024-11-24 21:05:56] Features: 1/7 -- score: -0.36869368718869566[Parallel(n_jobs=-1)]: Using backend LokyBackend with 8 concurrent workers.\n",
      "[Parallel(n_jobs=-1)]: Done   3 out of   6 | elapsed:    1.5s remaining:    1.5s\n",
      "[Parallel(n_jobs=-1)]: Done   6 out of   6 | elapsed:    2.3s finished\n",
      "\n",
      "[2024-11-24 21:05:58] Features: 2/7 -- score: -0.3659592162179107[Parallel(n_jobs=-1)]: Using backend LokyBackend with 8 concurrent workers.\n",
      "[Parallel(n_jobs=-1)]: Done   2 out of   5 | elapsed:    1.4s remaining:    2.1s\n",
      "[Parallel(n_jobs=-1)]: Done   5 out of   5 | elapsed:    1.5s finished\n",
      "\n",
      "[2024-11-24 21:06:00] Features: 3/7 -- score: -0.36451997069241154[Parallel(n_jobs=-1)]: Using backend LokyBackend with 8 concurrent workers.\n",
      "[Parallel(n_jobs=-1)]: Done   4 out of   4 | elapsed:    1.5s finished\n",
      "\n",
      "[2024-11-24 21:06:01] Features: 4/7 -- score: -0.36451997069241154[Parallel(n_jobs=-1)]: Using backend LokyBackend with 8 concurrent workers.\n",
      "[Parallel(n_jobs=-1)]: Done   3 out of   3 | elapsed:    1.5s finished\n",
      "\n",
      "[2024-11-24 21:06:03] Features: 5/7 -- score: -0.3636564024804357[Parallel(n_jobs=-1)]: Using backend LokyBackend with 8 concurrent workers.\n",
      "[Parallel(n_jobs=-1)]: Done   2 out of   2 | elapsed:    1.6s finished\n",
      "\n",
      "[2024-11-24 21:06:05] Features: 6/7 -- score: -0.3629368095700809[Parallel(n_jobs=-1)]: Using backend LokyBackend with 8 concurrent workers.\n",
      "\n",
      "[2024-11-24 21:06:06] Features: 7/7 -- score: -0.3636564323328305"
     ]
    },
    {
     "data": {
      "text/html": [
       "<style>#sk-container-id-4 {\n",
       "  /* Definition of color scheme common for light and dark mode */\n",
       "  --sklearn-color-text: black;\n",
       "  --sklearn-color-line: gray;\n",
       "  /* Definition of color scheme for unfitted estimators */\n",
       "  --sklearn-color-unfitted-level-0: #fff5e6;\n",
       "  --sklearn-color-unfitted-level-1: #f6e4d2;\n",
       "  --sklearn-color-unfitted-level-2: #ffe0b3;\n",
       "  --sklearn-color-unfitted-level-3: chocolate;\n",
       "  /* Definition of color scheme for fitted estimators */\n",
       "  --sklearn-color-fitted-level-0: #f0f8ff;\n",
       "  --sklearn-color-fitted-level-1: #d4ebff;\n",
       "  --sklearn-color-fitted-level-2: #b3dbfd;\n",
       "  --sklearn-color-fitted-level-3: cornflowerblue;\n",
       "\n",
       "  /* Specific color for light theme */\n",
       "  --sklearn-color-text-on-default-background: var(--sg-text-color, var(--theme-code-foreground, var(--jp-content-font-color1, black)));\n",
       "  --sklearn-color-background: var(--sg-background-color, var(--theme-background, var(--jp-layout-color0, white)));\n",
       "  --sklearn-color-border-box: var(--sg-text-color, var(--theme-code-foreground, var(--jp-content-font-color1, black)));\n",
       "  --sklearn-color-icon: #696969;\n",
       "\n",
       "  @media (prefers-color-scheme: dark) {\n",
       "    /* Redefinition of color scheme for dark theme */\n",
       "    --sklearn-color-text-on-default-background: var(--sg-text-color, var(--theme-code-foreground, var(--jp-content-font-color1, white)));\n",
       "    --sklearn-color-background: var(--sg-background-color, var(--theme-background, var(--jp-layout-color0, #111)));\n",
       "    --sklearn-color-border-box: var(--sg-text-color, var(--theme-code-foreground, var(--jp-content-font-color1, white)));\n",
       "    --sklearn-color-icon: #878787;\n",
       "  }\n",
       "}\n",
       "\n",
       "#sk-container-id-4 {\n",
       "  color: var(--sklearn-color-text);\n",
       "}\n",
       "\n",
       "#sk-container-id-4 pre {\n",
       "  padding: 0;\n",
       "}\n",
       "\n",
       "#sk-container-id-4 input.sk-hidden--visually {\n",
       "  border: 0;\n",
       "  clip: rect(1px 1px 1px 1px);\n",
       "  clip: rect(1px, 1px, 1px, 1px);\n",
       "  height: 1px;\n",
       "  margin: -1px;\n",
       "  overflow: hidden;\n",
       "  padding: 0;\n",
       "  position: absolute;\n",
       "  width: 1px;\n",
       "}\n",
       "\n",
       "#sk-container-id-4 div.sk-dashed-wrapped {\n",
       "  border: 1px dashed var(--sklearn-color-line);\n",
       "  margin: 0 0.4em 0.5em 0.4em;\n",
       "  box-sizing: border-box;\n",
       "  padding-bottom: 0.4em;\n",
       "  background-color: var(--sklearn-color-background);\n",
       "}\n",
       "\n",
       "#sk-container-id-4 div.sk-container {\n",
       "  /* jupyter's `normalize.less` sets `[hidden] { display: none; }`\n",
       "     but bootstrap.min.css set `[hidden] { display: none !important; }`\n",
       "     so we also need the `!important` here to be able to override the\n",
       "     default hidden behavior on the sphinx rendered scikit-learn.org.\n",
       "     See: https://github.com/scikit-learn/scikit-learn/issues/21755 */\n",
       "  display: inline-block !important;\n",
       "  position: relative;\n",
       "}\n",
       "\n",
       "#sk-container-id-4 div.sk-text-repr-fallback {\n",
       "  display: none;\n",
       "}\n",
       "\n",
       "div.sk-parallel-item,\n",
       "div.sk-serial,\n",
       "div.sk-item {\n",
       "  /* draw centered vertical line to link estimators */\n",
       "  background-image: linear-gradient(var(--sklearn-color-text-on-default-background), var(--sklearn-color-text-on-default-background));\n",
       "  background-size: 2px 100%;\n",
       "  background-repeat: no-repeat;\n",
       "  background-position: center center;\n",
       "}\n",
       "\n",
       "/* Parallel-specific style estimator block */\n",
       "\n",
       "#sk-container-id-4 div.sk-parallel-item::after {\n",
       "  content: \"\";\n",
       "  width: 100%;\n",
       "  border-bottom: 2px solid var(--sklearn-color-text-on-default-background);\n",
       "  flex-grow: 1;\n",
       "}\n",
       "\n",
       "#sk-container-id-4 div.sk-parallel {\n",
       "  display: flex;\n",
       "  align-items: stretch;\n",
       "  justify-content: center;\n",
       "  background-color: var(--sklearn-color-background);\n",
       "  position: relative;\n",
       "}\n",
       "\n",
       "#sk-container-id-4 div.sk-parallel-item {\n",
       "  display: flex;\n",
       "  flex-direction: column;\n",
       "}\n",
       "\n",
       "#sk-container-id-4 div.sk-parallel-item:first-child::after {\n",
       "  align-self: flex-end;\n",
       "  width: 50%;\n",
       "}\n",
       "\n",
       "#sk-container-id-4 div.sk-parallel-item:last-child::after {\n",
       "  align-self: flex-start;\n",
       "  width: 50%;\n",
       "}\n",
       "\n",
       "#sk-container-id-4 div.sk-parallel-item:only-child::after {\n",
       "  width: 0;\n",
       "}\n",
       "\n",
       "/* Serial-specific style estimator block */\n",
       "\n",
       "#sk-container-id-4 div.sk-serial {\n",
       "  display: flex;\n",
       "  flex-direction: column;\n",
       "  align-items: center;\n",
       "  background-color: var(--sklearn-color-background);\n",
       "  padding-right: 1em;\n",
       "  padding-left: 1em;\n",
       "}\n",
       "\n",
       "\n",
       "/* Toggleable style: style used for estimator/Pipeline/ColumnTransformer box that is\n",
       "clickable and can be expanded/collapsed.\n",
       "- Pipeline and ColumnTransformer use this feature and define the default style\n",
       "- Estimators will overwrite some part of the style using the `sk-estimator` class\n",
       "*/\n",
       "\n",
       "/* Pipeline and ColumnTransformer style (default) */\n",
       "\n",
       "#sk-container-id-4 div.sk-toggleable {\n",
       "  /* Default theme specific background. It is overwritten whether we have a\n",
       "  specific estimator or a Pipeline/ColumnTransformer */\n",
       "  background-color: var(--sklearn-color-background);\n",
       "}\n",
       "\n",
       "/* Toggleable label */\n",
       "#sk-container-id-4 label.sk-toggleable__label {\n",
       "  cursor: pointer;\n",
       "  display: block;\n",
       "  width: 100%;\n",
       "  margin-bottom: 0;\n",
       "  padding: 0.5em;\n",
       "  box-sizing: border-box;\n",
       "  text-align: center;\n",
       "}\n",
       "\n",
       "#sk-container-id-4 label.sk-toggleable__label-arrow:before {\n",
       "  /* Arrow on the left of the label */\n",
       "  content: \"▸\";\n",
       "  float: left;\n",
       "  margin-right: 0.25em;\n",
       "  color: var(--sklearn-color-icon);\n",
       "}\n",
       "\n",
       "#sk-container-id-4 label.sk-toggleable__label-arrow:hover:before {\n",
       "  color: var(--sklearn-color-text);\n",
       "}\n",
       "\n",
       "/* Toggleable content - dropdown */\n",
       "\n",
       "#sk-container-id-4 div.sk-toggleable__content {\n",
       "  max-height: 0;\n",
       "  max-width: 0;\n",
       "  overflow: hidden;\n",
       "  text-align: left;\n",
       "  /* unfitted */\n",
       "  background-color: var(--sklearn-color-unfitted-level-0);\n",
       "}\n",
       "\n",
       "#sk-container-id-4 div.sk-toggleable__content.fitted {\n",
       "  /* fitted */\n",
       "  background-color: var(--sklearn-color-fitted-level-0);\n",
       "}\n",
       "\n",
       "#sk-container-id-4 div.sk-toggleable__content pre {\n",
       "  margin: 0.2em;\n",
       "  border-radius: 0.25em;\n",
       "  color: var(--sklearn-color-text);\n",
       "  /* unfitted */\n",
       "  background-color: var(--sklearn-color-unfitted-level-0);\n",
       "}\n",
       "\n",
       "#sk-container-id-4 div.sk-toggleable__content.fitted pre {\n",
       "  /* unfitted */\n",
       "  background-color: var(--sklearn-color-fitted-level-0);\n",
       "}\n",
       "\n",
       "#sk-container-id-4 input.sk-toggleable__control:checked~div.sk-toggleable__content {\n",
       "  /* Expand drop-down */\n",
       "  max-height: 200px;\n",
       "  max-width: 100%;\n",
       "  overflow: auto;\n",
       "}\n",
       "\n",
       "#sk-container-id-4 input.sk-toggleable__control:checked~label.sk-toggleable__label-arrow:before {\n",
       "  content: \"▾\";\n",
       "}\n",
       "\n",
       "/* Pipeline/ColumnTransformer-specific style */\n",
       "\n",
       "#sk-container-id-4 div.sk-label input.sk-toggleable__control:checked~label.sk-toggleable__label {\n",
       "  color: var(--sklearn-color-text);\n",
       "  background-color: var(--sklearn-color-unfitted-level-2);\n",
       "}\n",
       "\n",
       "#sk-container-id-4 div.sk-label.fitted input.sk-toggleable__control:checked~label.sk-toggleable__label {\n",
       "  background-color: var(--sklearn-color-fitted-level-2);\n",
       "}\n",
       "\n",
       "/* Estimator-specific style */\n",
       "\n",
       "/* Colorize estimator box */\n",
       "#sk-container-id-4 div.sk-estimator input.sk-toggleable__control:checked~label.sk-toggleable__label {\n",
       "  /* unfitted */\n",
       "  background-color: var(--sklearn-color-unfitted-level-2);\n",
       "}\n",
       "\n",
       "#sk-container-id-4 div.sk-estimator.fitted input.sk-toggleable__control:checked~label.sk-toggleable__label {\n",
       "  /* fitted */\n",
       "  background-color: var(--sklearn-color-fitted-level-2);\n",
       "}\n",
       "\n",
       "#sk-container-id-4 div.sk-label label.sk-toggleable__label,\n",
       "#sk-container-id-4 div.sk-label label {\n",
       "  /* The background is the default theme color */\n",
       "  color: var(--sklearn-color-text-on-default-background);\n",
       "}\n",
       "\n",
       "/* On hover, darken the color of the background */\n",
       "#sk-container-id-4 div.sk-label:hover label.sk-toggleable__label {\n",
       "  color: var(--sklearn-color-text);\n",
       "  background-color: var(--sklearn-color-unfitted-level-2);\n",
       "}\n",
       "\n",
       "/* Label box, darken color on hover, fitted */\n",
       "#sk-container-id-4 div.sk-label.fitted:hover label.sk-toggleable__label.fitted {\n",
       "  color: var(--sklearn-color-text);\n",
       "  background-color: var(--sklearn-color-fitted-level-2);\n",
       "}\n",
       "\n",
       "/* Estimator label */\n",
       "\n",
       "#sk-container-id-4 div.sk-label label {\n",
       "  font-family: monospace;\n",
       "  font-weight: bold;\n",
       "  display: inline-block;\n",
       "  line-height: 1.2em;\n",
       "}\n",
       "\n",
       "#sk-container-id-4 div.sk-label-container {\n",
       "  text-align: center;\n",
       "}\n",
       "\n",
       "/* Estimator-specific */\n",
       "#sk-container-id-4 div.sk-estimator {\n",
       "  font-family: monospace;\n",
       "  border: 1px dotted var(--sklearn-color-border-box);\n",
       "  border-radius: 0.25em;\n",
       "  box-sizing: border-box;\n",
       "  margin-bottom: 0.5em;\n",
       "  /* unfitted */\n",
       "  background-color: var(--sklearn-color-unfitted-level-0);\n",
       "}\n",
       "\n",
       "#sk-container-id-4 div.sk-estimator.fitted {\n",
       "  /* fitted */\n",
       "  background-color: var(--sklearn-color-fitted-level-0);\n",
       "}\n",
       "\n",
       "/* on hover */\n",
       "#sk-container-id-4 div.sk-estimator:hover {\n",
       "  /* unfitted */\n",
       "  background-color: var(--sklearn-color-unfitted-level-2);\n",
       "}\n",
       "\n",
       "#sk-container-id-4 div.sk-estimator.fitted:hover {\n",
       "  /* fitted */\n",
       "  background-color: var(--sklearn-color-fitted-level-2);\n",
       "}\n",
       "\n",
       "/* Specification for estimator info (e.g. \"i\" and \"?\") */\n",
       "\n",
       "/* Common style for \"i\" and \"?\" */\n",
       "\n",
       ".sk-estimator-doc-link,\n",
       "a:link.sk-estimator-doc-link,\n",
       "a:visited.sk-estimator-doc-link {\n",
       "  float: right;\n",
       "  font-size: smaller;\n",
       "  line-height: 1em;\n",
       "  font-family: monospace;\n",
       "  background-color: var(--sklearn-color-background);\n",
       "  border-radius: 1em;\n",
       "  height: 1em;\n",
       "  width: 1em;\n",
       "  text-decoration: none !important;\n",
       "  margin-left: 1ex;\n",
       "  /* unfitted */\n",
       "  border: var(--sklearn-color-unfitted-level-1) 1pt solid;\n",
       "  color: var(--sklearn-color-unfitted-level-1);\n",
       "}\n",
       "\n",
       ".sk-estimator-doc-link.fitted,\n",
       "a:link.sk-estimator-doc-link.fitted,\n",
       "a:visited.sk-estimator-doc-link.fitted {\n",
       "  /* fitted */\n",
       "  border: var(--sklearn-color-fitted-level-1) 1pt solid;\n",
       "  color: var(--sklearn-color-fitted-level-1);\n",
       "}\n",
       "\n",
       "/* On hover */\n",
       "div.sk-estimator:hover .sk-estimator-doc-link:hover,\n",
       ".sk-estimator-doc-link:hover,\n",
       "div.sk-label-container:hover .sk-estimator-doc-link:hover,\n",
       ".sk-estimator-doc-link:hover {\n",
       "  /* unfitted */\n",
       "  background-color: var(--sklearn-color-unfitted-level-3);\n",
       "  color: var(--sklearn-color-background);\n",
       "  text-decoration: none;\n",
       "}\n",
       "\n",
       "div.sk-estimator.fitted:hover .sk-estimator-doc-link.fitted:hover,\n",
       ".sk-estimator-doc-link.fitted:hover,\n",
       "div.sk-label-container:hover .sk-estimator-doc-link.fitted:hover,\n",
       ".sk-estimator-doc-link.fitted:hover {\n",
       "  /* fitted */\n",
       "  background-color: var(--sklearn-color-fitted-level-3);\n",
       "  color: var(--sklearn-color-background);\n",
       "  text-decoration: none;\n",
       "}\n",
       "\n",
       "/* Span, style for the box shown on hovering the info icon */\n",
       ".sk-estimator-doc-link span {\n",
       "  display: none;\n",
       "  z-index: 9999;\n",
       "  position: relative;\n",
       "  font-weight: normal;\n",
       "  right: .2ex;\n",
       "  padding: .5ex;\n",
       "  margin: .5ex;\n",
       "  width: min-content;\n",
       "  min-width: 20ex;\n",
       "  max-width: 50ex;\n",
       "  color: var(--sklearn-color-text);\n",
       "  box-shadow: 2pt 2pt 4pt #999;\n",
       "  /* unfitted */\n",
       "  background: var(--sklearn-color-unfitted-level-0);\n",
       "  border: .5pt solid var(--sklearn-color-unfitted-level-3);\n",
       "}\n",
       "\n",
       ".sk-estimator-doc-link.fitted span {\n",
       "  /* fitted */\n",
       "  background: var(--sklearn-color-fitted-level-0);\n",
       "  border: var(--sklearn-color-fitted-level-3);\n",
       "}\n",
       "\n",
       ".sk-estimator-doc-link:hover span {\n",
       "  display: block;\n",
       "}\n",
       "\n",
       "/* \"?\"-specific style due to the `<a>` HTML tag */\n",
       "\n",
       "#sk-container-id-4 a.estimator_doc_link {\n",
       "  float: right;\n",
       "  font-size: 1rem;\n",
       "  line-height: 1em;\n",
       "  font-family: monospace;\n",
       "  background-color: var(--sklearn-color-background);\n",
       "  border-radius: 1rem;\n",
       "  height: 1rem;\n",
       "  width: 1rem;\n",
       "  text-decoration: none;\n",
       "  /* unfitted */\n",
       "  color: var(--sklearn-color-unfitted-level-1);\n",
       "  border: var(--sklearn-color-unfitted-level-1) 1pt solid;\n",
       "}\n",
       "\n",
       "#sk-container-id-4 a.estimator_doc_link.fitted {\n",
       "  /* fitted */\n",
       "  border: var(--sklearn-color-fitted-level-1) 1pt solid;\n",
       "  color: var(--sklearn-color-fitted-level-1);\n",
       "}\n",
       "\n",
       "/* On hover */\n",
       "#sk-container-id-4 a.estimator_doc_link:hover {\n",
       "  /* unfitted */\n",
       "  background-color: var(--sklearn-color-unfitted-level-3);\n",
       "  color: var(--sklearn-color-background);\n",
       "  text-decoration: none;\n",
       "}\n",
       "\n",
       "#sk-container-id-4 a.estimator_doc_link.fitted:hover {\n",
       "  /* fitted */\n",
       "  background-color: var(--sklearn-color-fitted-level-3);\n",
       "}\n",
       "</style><div id=\"sk-container-id-4\" class=\"sk-top-container\"><div class=\"sk-text-repr-fallback\"><pre>SequentialFeatureSelector(estimator=RandomForestClassifier(criterion=&#x27;entropy&#x27;),\n",
       "                          k_features=(7, 7), n_jobs=-1, scoring=&#x27;r2&#x27;,\n",
       "                          verbose=2)</pre><b>In a Jupyter environment, please rerun this cell to show the HTML representation or trust the notebook. <br />On GitHub, the HTML representation is unable to render, please try loading this page with nbviewer.org.</b></div><div class=\"sk-container\" hidden><div class=\"sk-item sk-dashed-wrapped\"><div class=\"sk-label-container\"><div class=\"sk-label fitted sk-toggleable\"><input class=\"sk-toggleable__control sk-hidden--visually\" id=\"sk-estimator-id-4\" type=\"checkbox\" ><label for=\"sk-estimator-id-4\" class=\"sk-toggleable__label fitted sk-toggleable__label-arrow fitted\">&nbsp;SequentialFeatureSelector<span class=\"sk-estimator-doc-link fitted\">i<span>Fitted</span></span></label><div class=\"sk-toggleable__content fitted\"><pre>SequentialFeatureSelector(estimator=RandomForestClassifier(criterion=&#x27;entropy&#x27;),\n",
       "                          k_features=(7, 7), n_jobs=-1, scoring=&#x27;r2&#x27;,\n",
       "                          verbose=2)</pre></div> </div></div><div class=\"sk-parallel\"><div class=\"sk-parallel-item\"><div class=\"sk-item\"><div class=\"sk-label-container\"><div class=\"sk-label fitted sk-toggleable\"><input class=\"sk-toggleable__control sk-hidden--visually\" id=\"sk-estimator-id-5\" type=\"checkbox\" ><label for=\"sk-estimator-id-5\" class=\"sk-toggleable__label fitted sk-toggleable__label-arrow fitted\">estimator: RandomForestClassifier</label><div class=\"sk-toggleable__content fitted\"><pre>RandomForestClassifier(criterion=&#x27;entropy&#x27;)</pre></div> </div></div><div class=\"sk-serial\"><div class=\"sk-item\"><div class=\"sk-estimator fitted sk-toggleable\"><input class=\"sk-toggleable__control sk-hidden--visually\" id=\"sk-estimator-id-6\" type=\"checkbox\" ><label for=\"sk-estimator-id-6\" class=\"sk-toggleable__label fitted sk-toggleable__label-arrow fitted\">&nbsp;RandomForestClassifier<a class=\"sk-estimator-doc-link fitted\" rel=\"noreferrer\" target=\"_blank\" href=\"https://scikit-learn.org/1.5/modules/generated/sklearn.ensemble.RandomForestClassifier.html\">?<span>Documentation for RandomForestClassifier</span></a></label><div class=\"sk-toggleable__content fitted\"><pre>RandomForestClassifier(criterion=&#x27;entropy&#x27;)</pre></div> </div></div></div></div></div></div></div></div></div>"
      ],
      "text/plain": [
       "SequentialFeatureSelector(estimator=RandomForestClassifier(criterion='entropy'),\n",
       "                          k_features=(7, 7), n_jobs=-1, scoring='r2',\n",
       "                          verbose=2)"
      ]
     },
     "execution_count": 221,
     "metadata": {},
     "output_type": "execute_result"
    }
   ],
   "source": [
    "sfs_model_la=sfs(RandomForestClassifier(criterion=\"entropy\"),k_features = 7,\n",
    "                forward=True,\n",
    "                verbose=2,\n",
    "                cv=5,\n",
    "                n_jobs=-1,\n",
    "                scoring='r2')\n",
    "sfs_model_la.fit(X_la_train, y_la_train)"
   ]
  },
  {
   "cell_type": "code",
   "execution_count": 222,
   "metadata": {},
   "outputs": [
    {
     "name": "stdout",
     "output_type": "stream",
     "text": [
      "Best accuracy score: -0.36\n",
      "Best subset (indices): (0, 1, 2, 3, 4, 5, 6)\n"
     ]
    }
   ],
   "source": [
    "print('Best accuracy score: %.2f' % sfs_model_la.k_score_)   # k_score_ shows the best score \n",
    "print('Best subset (indices):', sfs_model_la.k_feature_idx_) # k_feature_idx_ shows the index of features that yield the best score"
   ]
  },
  {
   "cell_type": "code",
   "execution_count": 223,
   "metadata": {},
   "outputs": [
    {
     "name": "stdout",
     "output_type": "stream",
     "text": [
      "Best subset (corresponding names):\n"
     ]
    },
    {
     "data": {
      "text/plain": [
       "('roomtype_Entire home/apt',\n",
       " 'roomtype_Hotel room',\n",
       " 'roomtype_Private room',\n",
       " 'number_of_reviews_ltm',\n",
       " 'availability_365',\n",
       " 'days_from_last_review_23',\n",
       " 'calculated_host_listings_count')"
      ]
     },
     "execution_count": 223,
     "metadata": {},
     "output_type": "execute_result"
    }
   ],
   "source": [
    "print('Best subset (corresponding names):')\n",
    "sfs_model_la.k_feature_names_"
   ]
  },
  {
   "cell_type": "code",
   "execution_count": 224,
   "metadata": {},
   "outputs": [
    {
     "data": {
      "text/html": [
       "<div>\n",
       "<style scoped>\n",
       "    .dataframe tbody tr th:only-of-type {\n",
       "        vertical-align: middle;\n",
       "    }\n",
       "\n",
       "    .dataframe tbody tr th {\n",
       "        vertical-align: top;\n",
       "    }\n",
       "\n",
       "    .dataframe thead th {\n",
       "        text-align: right;\n",
       "    }\n",
       "</style>\n",
       "<table border=\"1\" class=\"dataframe\">\n",
       "  <thead>\n",
       "    <tr style=\"text-align: right;\">\n",
       "      <th></th>\n",
       "      <th>price</th>\n",
       "      <th>minimum_nights</th>\n",
       "      <th>number_of_reviews</th>\n",
       "      <th>last_review</th>\n",
       "      <th>reviews_per_month</th>\n",
       "      <th>calculated_host_listings_count</th>\n",
       "      <th>availability_365</th>\n",
       "      <th>number_of_reviews_ltm</th>\n",
       "      <th>city</th>\n",
       "      <th>days_from_last_review_23</th>\n",
       "      <th>reviews_rate</th>\n",
       "      <th>availability</th>\n",
       "      <th>price_per_night</th>\n",
       "      <th>price_category_per_night</th>\n",
       "      <th>roomtype_Entire home/apt</th>\n",
       "      <th>roomtype_Hotel room</th>\n",
       "      <th>roomtype_Private room</th>\n",
       "      <th>roomtype_Shared room</th>\n",
       "    </tr>\n",
       "  </thead>\n",
       "  <tbody>\n",
       "    <tr>\n",
       "      <th>0</th>\n",
       "      <td>202</td>\n",
       "      <td>-0.412692</td>\n",
       "      <td>4.235850</td>\n",
       "      <td>2023-02-19</td>\n",
       "      <td>0.350467</td>\n",
       "      <td>-0.271630</td>\n",
       "      <td>-0.392730</td>\n",
       "      <td>2.291858</td>\n",
       "      <td>San Francisco</td>\n",
       "      <td>-0.257208</td>\n",
       "      <td>-0.839753</td>\n",
       "      <td>medium</td>\n",
       "      <td>101.000000</td>\n",
       "      <td>1</td>\n",
       "      <td>True</td>\n",
       "      <td>False</td>\n",
       "      <td>False</td>\n",
       "      <td>False</td>\n",
       "    </tr>\n",
       "    <tr>\n",
       "      <th>1</th>\n",
       "      <td>235</td>\n",
       "      <td>0.592791</td>\n",
       "      <td>0.866732</td>\n",
       "      <td>2017-08-06</td>\n",
       "      <td>-0.512707</td>\n",
       "      <td>-0.271630</td>\n",
       "      <td>1.367066</td>\n",
       "      <td>-0.568612</td>\n",
       "      <td>San Francisco</td>\n",
       "      <td>3.452959</td>\n",
       "      <td>-1.216944</td>\n",
       "      <td>very high</td>\n",
       "      <td>7.833333</td>\n",
       "      <td>0</td>\n",
       "      <td>True</td>\n",
       "      <td>False</td>\n",
       "      <td>False</td>\n",
       "      <td>False</td>\n",
       "    </tr>\n",
       "    <tr>\n",
       "      <th>2</th>\n",
       "      <td>56</td>\n",
       "      <td>0.664612</td>\n",
       "      <td>-0.396688</td>\n",
       "      <td>2022-10-27</td>\n",
       "      <td>-0.810894</td>\n",
       "      <td>-0.158442</td>\n",
       "      <td>1.367066</td>\n",
       "      <td>-0.520129</td>\n",
       "      <td>San Francisco</td>\n",
       "      <td>-0.046298</td>\n",
       "      <td>-0.944883</td>\n",
       "      <td>very high</td>\n",
       "      <td>1.750000</td>\n",
       "      <td>0</td>\n",
       "      <td>False</td>\n",
       "      <td>False</td>\n",
       "      <td>True</td>\n",
       "      <td>False</td>\n",
       "    </tr>\n",
       "    <tr>\n",
       "      <th>3</th>\n",
       "      <td>575</td>\n",
       "      <td>-0.161321</td>\n",
       "      <td>-0.161345</td>\n",
       "      <td>2019-06-28</td>\n",
       "      <td>-0.769043</td>\n",
       "      <td>-0.262198</td>\n",
       "      <td>1.367066</td>\n",
       "      <td>-0.568612</td>\n",
       "      <td>San Francisco</td>\n",
       "      <td>2.185670</td>\n",
       "      <td>-1.216944</td>\n",
       "      <td>very high</td>\n",
       "      <td>63.888889</td>\n",
       "      <td>1</td>\n",
       "      <td>True</td>\n",
       "      <td>False</td>\n",
       "      <td>False</td>\n",
       "      <td>False</td>\n",
       "    </tr>\n",
       "    <tr>\n",
       "      <th>4</th>\n",
       "      <td>110</td>\n",
       "      <td>-0.448602</td>\n",
       "      <td>9.029413</td>\n",
       "      <td>2023-02-25</td>\n",
       "      <td>1.574604</td>\n",
       "      <td>-0.262198</td>\n",
       "      <td>-0.162546</td>\n",
       "      <td>1.079795</td>\n",
       "      <td>San Francisco</td>\n",
       "      <td>-0.268212</td>\n",
       "      <td>-1.108826</td>\n",
       "      <td>medium</td>\n",
       "      <td>110.000000</td>\n",
       "      <td>1</td>\n",
       "      <td>False</td>\n",
       "      <td>False</td>\n",
       "      <td>True</td>\n",
       "      <td>False</td>\n",
       "    </tr>\n",
       "    <tr>\n",
       "      <th>...</th>\n",
       "      <td>...</td>\n",
       "      <td>...</td>\n",
       "      <td>...</td>\n",
       "      <td>...</td>\n",
       "      <td>...</td>\n",
       "      <td>...</td>\n",
       "      <td>...</td>\n",
       "      <td>...</td>\n",
       "      <td>...</td>\n",
       "      <td>...</td>\n",
       "      <td>...</td>\n",
       "      <td>...</td>\n",
       "      <td>...</td>\n",
       "      <td>...</td>\n",
       "      <td>...</td>\n",
       "      <td>...</td>\n",
       "      <td>...</td>\n",
       "      <td>...</td>\n",
       "    </tr>\n",
       "    <tr>\n",
       "      <th>232142</th>\n",
       "      <td>389</td>\n",
       "      <td>-0.412692</td>\n",
       "      <td>-0.508166</td>\n",
       "      <td>NaT</td>\n",
       "      <td>NaN</td>\n",
       "      <td>-0.271630</td>\n",
       "      <td>1.367066</td>\n",
       "      <td>-0.568612</td>\n",
       "      <td>San Mateo County</td>\n",
       "      <td>-0.836749</td>\n",
       "      <td>NaN</td>\n",
       "      <td>very high</td>\n",
       "      <td>194.500000</td>\n",
       "      <td>1</td>\n",
       "      <td>True</td>\n",
       "      <td>False</td>\n",
       "      <td>False</td>\n",
       "      <td>False</td>\n",
       "    </tr>\n",
       "    <tr>\n",
       "      <th>232143</th>\n",
       "      <td>158</td>\n",
       "      <td>-0.448602</td>\n",
       "      <td>-0.508166</td>\n",
       "      <td>NaT</td>\n",
       "      <td>NaN</td>\n",
       "      <td>-0.271630</td>\n",
       "      <td>1.359641</td>\n",
       "      <td>-0.568612</td>\n",
       "      <td>San Mateo County</td>\n",
       "      <td>-0.836749</td>\n",
       "      <td>NaN</td>\n",
       "      <td>very high</td>\n",
       "      <td>158.000000</td>\n",
       "      <td>1</td>\n",
       "      <td>True</td>\n",
       "      <td>False</td>\n",
       "      <td>False</td>\n",
       "      <td>False</td>\n",
       "    </tr>\n",
       "    <tr>\n",
       "      <th>232144</th>\n",
       "      <td>97</td>\n",
       "      <td>-0.448602</td>\n",
       "      <td>-0.508166</td>\n",
       "      <td>NaT</td>\n",
       "      <td>NaN</td>\n",
       "      <td>0.020773</td>\n",
       "      <td>1.322514</td>\n",
       "      <td>-0.568612</td>\n",
       "      <td>San Mateo County</td>\n",
       "      <td>-0.836749</td>\n",
       "      <td>NaN</td>\n",
       "      <td>very high</td>\n",
       "      <td>97.000000</td>\n",
       "      <td>1</td>\n",
       "      <td>True</td>\n",
       "      <td>False</td>\n",
       "      <td>False</td>\n",
       "      <td>False</td>\n",
       "    </tr>\n",
       "    <tr>\n",
       "      <th>232145</th>\n",
       "      <td>62</td>\n",
       "      <td>-0.412692</td>\n",
       "      <td>-0.508166</td>\n",
       "      <td>NaT</td>\n",
       "      <td>NaN</td>\n",
       "      <td>-0.252765</td>\n",
       "      <td>-0.845673</td>\n",
       "      <td>-0.568612</td>\n",
       "      <td>San Mateo County</td>\n",
       "      <td>-0.836749</td>\n",
       "      <td>NaN</td>\n",
       "      <td>low</td>\n",
       "      <td>31.000000</td>\n",
       "      <td>0</td>\n",
       "      <td>False</td>\n",
       "      <td>False</td>\n",
       "      <td>True</td>\n",
       "      <td>False</td>\n",
       "    </tr>\n",
       "    <tr>\n",
       "      <th>232146</th>\n",
       "      <td>85</td>\n",
       "      <td>-0.412692</td>\n",
       "      <td>-0.508166</td>\n",
       "      <td>NaT</td>\n",
       "      <td>NaN</td>\n",
       "      <td>-0.252765</td>\n",
       "      <td>-0.830823</td>\n",
       "      <td>-0.568612</td>\n",
       "      <td>San Mateo County</td>\n",
       "      <td>-0.836749</td>\n",
       "      <td>NaN</td>\n",
       "      <td>low</td>\n",
       "      <td>42.500000</td>\n",
       "      <td>0</td>\n",
       "      <td>False</td>\n",
       "      <td>False</td>\n",
       "      <td>True</td>\n",
       "      <td>False</td>\n",
       "    </tr>\n",
       "  </tbody>\n",
       "</table>\n",
       "<p>231279 rows × 18 columns</p>\n",
       "</div>"
      ],
      "text/plain": [
       "        price  minimum_nights  number_of_reviews last_review  \\\n",
       "0         202       -0.412692           4.235850  2023-02-19   \n",
       "1         235        0.592791           0.866732  2017-08-06   \n",
       "2          56        0.664612          -0.396688  2022-10-27   \n",
       "3         575       -0.161321          -0.161345  2019-06-28   \n",
       "4         110       -0.448602           9.029413  2023-02-25   \n",
       "...       ...             ...                ...         ...   \n",
       "232142    389       -0.412692          -0.508166         NaT   \n",
       "232143    158       -0.448602          -0.508166         NaT   \n",
       "232144     97       -0.448602          -0.508166         NaT   \n",
       "232145     62       -0.412692          -0.508166         NaT   \n",
       "232146     85       -0.412692          -0.508166         NaT   \n",
       "\n",
       "        reviews_per_month  calculated_host_listings_count  availability_365  \\\n",
       "0                0.350467                       -0.271630         -0.392730   \n",
       "1               -0.512707                       -0.271630          1.367066   \n",
       "2               -0.810894                       -0.158442          1.367066   \n",
       "3               -0.769043                       -0.262198          1.367066   \n",
       "4                1.574604                       -0.262198         -0.162546   \n",
       "...                   ...                             ...               ...   \n",
       "232142                NaN                       -0.271630          1.367066   \n",
       "232143                NaN                       -0.271630          1.359641   \n",
       "232144                NaN                        0.020773          1.322514   \n",
       "232145                NaN                       -0.252765         -0.845673   \n",
       "232146                NaN                       -0.252765         -0.830823   \n",
       "\n",
       "        number_of_reviews_ltm              city  days_from_last_review_23  \\\n",
       "0                    2.291858     San Francisco                 -0.257208   \n",
       "1                   -0.568612     San Francisco                  3.452959   \n",
       "2                   -0.520129     San Francisco                 -0.046298   \n",
       "3                   -0.568612     San Francisco                  2.185670   \n",
       "4                    1.079795     San Francisco                 -0.268212   \n",
       "...                       ...               ...                       ...   \n",
       "232142              -0.568612  San Mateo County                 -0.836749   \n",
       "232143              -0.568612  San Mateo County                 -0.836749   \n",
       "232144              -0.568612  San Mateo County                 -0.836749   \n",
       "232145              -0.568612  San Mateo County                 -0.836749   \n",
       "232146              -0.568612  San Mateo County                 -0.836749   \n",
       "\n",
       "        reviews_rate availability  price_per_night  price_category_per_night  \\\n",
       "0          -0.839753       medium       101.000000                         1   \n",
       "1          -1.216944    very high         7.833333                         0   \n",
       "2          -0.944883    very high         1.750000                         0   \n",
       "3          -1.216944    very high        63.888889                         1   \n",
       "4          -1.108826       medium       110.000000                         1   \n",
       "...              ...          ...              ...                       ...   \n",
       "232142           NaN    very high       194.500000                         1   \n",
       "232143           NaN    very high       158.000000                         1   \n",
       "232144           NaN    very high        97.000000                         1   \n",
       "232145           NaN          low        31.000000                         0   \n",
       "232146           NaN          low        42.500000                         0   \n",
       "\n",
       "        roomtype_Entire home/apt  roomtype_Hotel room  roomtype_Private room  \\\n",
       "0                           True                False                  False   \n",
       "1                           True                False                  False   \n",
       "2                          False                False                   True   \n",
       "3                           True                False                  False   \n",
       "4                          False                False                   True   \n",
       "...                          ...                  ...                    ...   \n",
       "232142                      True                False                  False   \n",
       "232143                      True                False                  False   \n",
       "232144                      True                False                  False   \n",
       "232145                     False                False                   True   \n",
       "232146                     False                False                   True   \n",
       "\n",
       "        roomtype_Shared room  \n",
       "0                      False  \n",
       "1                      False  \n",
       "2                      False  \n",
       "3                      False  \n",
       "4                      False  \n",
       "...                      ...  \n",
       "232142                 False  \n",
       "232143                 False  \n",
       "232144                 False  \n",
       "232145                 False  \n",
       "232146                 False  \n",
       "\n",
       "[231279 rows x 18 columns]"
      ]
     },
     "execution_count": 224,
     "metadata": {},
     "output_type": "execute_result"
    }
   ],
   "source": [
    "listing"
   ]
  },
  {
   "cell_type": "markdown",
   "metadata": {},
   "source": [
    "### Neural Network (Optional)"
   ]
  },
  {
   "cell_type": "code",
   "execution_count": 162,
   "metadata": {},
   "outputs": [],
   "source": [
    "import tensorflow as tf"
   ]
  },
  {
   "cell_type": "code",
   "execution_count": 168,
   "metadata": {},
   "outputs": [],
   "source": [
    "model = tf.keras.Sequential([\n",
    "    tf.keras.layers.Input(shape=(X_la_train.shape[1],)),\n",
    "    tf.keras.layers.Dense(5, activation=\"relu\"),\n",
    "    tf.keras.layers.Dense(1, activation=\"sigmoid\", kernel_regularizer = tf.keras.regularizers.l1(0.01))\n",
    "])"
   ]
  },
  {
   "cell_type": "code",
   "execution_count": 169,
   "metadata": {},
   "outputs": [
    {
     "name": "stdout",
     "output_type": "stream",
     "text": [
      "Epoch 1/50\n",
      "\u001b[1m738/738\u001b[0m \u001b[32m━━━━━━━━━━━━━━━━━━━━\u001b[0m\u001b[37m\u001b[0m \u001b[1m0s\u001b[0m 369us/step - accuracy: 0.5586 - loss: 0.7541 - val_accuracy: 0.6882 - val_loss: 0.6362\n",
      "Epoch 2/50\n",
      "\u001b[1m738/738\u001b[0m \u001b[32m━━━━━━━━━━━━━━━━━━━━\u001b[0m\u001b[37m\u001b[0m \u001b[1m0s\u001b[0m 315us/step - accuracy: 0.6724 - loss: 0.6347 - val_accuracy: 0.6882 - val_loss: 0.6136\n",
      "Epoch 3/50\n",
      "\u001b[1m738/738\u001b[0m \u001b[32m━━━━━━━━━━━━━━━━━━━━\u001b[0m\u001b[37m\u001b[0m \u001b[1m0s\u001b[0m 305us/step - accuracy: 0.6745 - loss: 0.6088 - val_accuracy: 0.6882 - val_loss: 0.5888\n",
      "Epoch 4/50\n",
      "\u001b[1m738/738\u001b[0m \u001b[32m━━━━━━━━━━━━━━━━━━━━\u001b[0m\u001b[37m\u001b[0m \u001b[1m0s\u001b[0m 300us/step - accuracy: 0.6779 - loss: 0.5932 - val_accuracy: 0.6882 - val_loss: 0.5861\n",
      "Epoch 5/50\n",
      "\u001b[1m738/738\u001b[0m \u001b[32m━━━━━━━━━━━━━━━━━━━━\u001b[0m\u001b[37m\u001b[0m \u001b[1m0s\u001b[0m 309us/step - accuracy: 0.6751 - loss: 0.5932 - val_accuracy: 0.6882 - val_loss: 0.5846\n",
      "Epoch 6/50\n",
      "\u001b[1m738/738\u001b[0m \u001b[32m━━━━━━━━━━━━━━━━━━━━\u001b[0m\u001b[37m\u001b[0m \u001b[1m0s\u001b[0m 310us/step - accuracy: 0.6693 - loss: 0.5948 - val_accuracy: 0.6882 - val_loss: 0.5833\n",
      "Epoch 7/50\n",
      "\u001b[1m738/738\u001b[0m \u001b[32m━━━━━━━━━━━━━━━━━━━━\u001b[0m\u001b[37m\u001b[0m \u001b[1m0s\u001b[0m 301us/step - accuracy: 0.6772 - loss: 0.5891 - val_accuracy: 0.6885 - val_loss: 0.5827\n",
      "Epoch 8/50\n",
      "\u001b[1m738/738\u001b[0m \u001b[32m━━━━━━━━━━━━━━━━━━━━\u001b[0m\u001b[37m\u001b[0m \u001b[1m0s\u001b[0m 314us/step - accuracy: 0.6754 - loss: 0.5893 - val_accuracy: 0.6890 - val_loss: 0.5816\n",
      "Epoch 9/50\n",
      "\u001b[1m738/738\u001b[0m \u001b[32m━━━━━━━━━━━━━━━━━━━━\u001b[0m\u001b[37m\u001b[0m \u001b[1m0s\u001b[0m 313us/step - accuracy: 0.6817 - loss: 0.5817 - val_accuracy: 0.6890 - val_loss: 0.5810\n",
      "Epoch 10/50\n",
      "\u001b[1m738/738\u001b[0m \u001b[32m━━━━━━━━━━━━━━━━━━━━\u001b[0m\u001b[37m\u001b[0m \u001b[1m0s\u001b[0m 307us/step - accuracy: 0.6768 - loss: 0.5869 - val_accuracy: 0.6890 - val_loss: 0.5805\n",
      "Epoch 11/50\n",
      "\u001b[1m738/738\u001b[0m \u001b[32m━━━━━━━━━━━━━━━━━━━━\u001b[0m\u001b[37m\u001b[0m \u001b[1m0s\u001b[0m 320us/step - accuracy: 0.6754 - loss: 0.5854 - val_accuracy: 0.6890 - val_loss: 0.5798\n",
      "Epoch 12/50\n",
      "\u001b[1m738/738\u001b[0m \u001b[32m━━━━━━━━━━━━━━━━━━━━\u001b[0m\u001b[37m\u001b[0m \u001b[1m0s\u001b[0m 318us/step - accuracy: 0.6722 - loss: 0.5880 - val_accuracy: 0.6890 - val_loss: 0.5792\n",
      "Epoch 13/50\n",
      "\u001b[1m738/738\u001b[0m \u001b[32m━━━━━━━━━━━━━━━━━━━━\u001b[0m\u001b[37m\u001b[0m \u001b[1m0s\u001b[0m 320us/step - accuracy: 0.6764 - loss: 0.5840 - val_accuracy: 0.6890 - val_loss: 0.5787\n",
      "Epoch 14/50\n",
      "\u001b[1m738/738\u001b[0m \u001b[32m━━━━━━━━━━━━━━━━━━━━\u001b[0m\u001b[37m\u001b[0m \u001b[1m0s\u001b[0m 309us/step - accuracy: 0.6740 - loss: 0.5868 - val_accuracy: 0.6890 - val_loss: 0.5783\n",
      "Epoch 15/50\n",
      "\u001b[1m738/738\u001b[0m \u001b[32m━━━━━━━━━━━━━━━━━━━━\u001b[0m\u001b[37m\u001b[0m \u001b[1m0s\u001b[0m 331us/step - accuracy: 0.6743 - loss: 0.5886 - val_accuracy: 0.6889 - val_loss: 0.5779\n",
      "Epoch 16/50\n",
      "\u001b[1m738/738\u001b[0m \u001b[32m━━━━━━━━━━━━━━━━━━━━\u001b[0m\u001b[37m\u001b[0m \u001b[1m0s\u001b[0m 308us/step - accuracy: 0.6773 - loss: 0.5829 - val_accuracy: 0.6890 - val_loss: 0.5773\n",
      "Epoch 17/50\n",
      "\u001b[1m738/738\u001b[0m \u001b[32m━━━━━━━━━━━━━━━━━━━━\u001b[0m\u001b[37m\u001b[0m \u001b[1m0s\u001b[0m 350us/step - accuracy: 0.6805 - loss: 0.5807 - val_accuracy: 0.6889 - val_loss: 0.5773\n",
      "Epoch 18/50\n",
      "\u001b[1m738/738\u001b[0m \u001b[32m━━━━━━━━━━━━━━━━━━━━\u001b[0m\u001b[37m\u001b[0m \u001b[1m0s\u001b[0m 311us/step - accuracy: 0.6720 - loss: 0.5863 - val_accuracy: 0.6889 - val_loss: 0.5769\n",
      "Epoch 19/50\n",
      "\u001b[1m738/738\u001b[0m \u001b[32m━━━━━━━━━━━━━━━━━━━━\u001b[0m\u001b[37m\u001b[0m \u001b[1m0s\u001b[0m 315us/step - accuracy: 0.6736 - loss: 0.5860 - val_accuracy: 0.6889 - val_loss: 0.5763\n",
      "Epoch 20/50\n",
      "\u001b[1m738/738\u001b[0m \u001b[32m━━━━━━━━━━━━━━━━━━━━\u001b[0m\u001b[37m\u001b[0m \u001b[1m0s\u001b[0m 321us/step - accuracy: 0.6737 - loss: 0.5841 - val_accuracy: 0.6890 - val_loss: 0.5760\n",
      "Epoch 21/50\n",
      "\u001b[1m738/738\u001b[0m \u001b[32m━━━━━━━━━━━━━━━━━━━━\u001b[0m\u001b[37m\u001b[0m \u001b[1m0s\u001b[0m 315us/step - accuracy: 0.6749 - loss: 0.5854 - val_accuracy: 0.6889 - val_loss: 0.5759\n",
      "Epoch 22/50\n",
      "\u001b[1m738/738\u001b[0m \u001b[32m━━━━━━━━━━━━━━━━━━━━\u001b[0m\u001b[37m\u001b[0m \u001b[1m0s\u001b[0m 318us/step - accuracy: 0.6762 - loss: 0.5797 - val_accuracy: 0.6889 - val_loss: 0.5756\n",
      "Epoch 23/50\n",
      "\u001b[1m738/738\u001b[0m \u001b[32m━━━━━━━━━━━━━━━━━━━━\u001b[0m\u001b[37m\u001b[0m \u001b[1m0s\u001b[0m 321us/step - accuracy: 0.6790 - loss: 0.5820 - val_accuracy: 0.6889 - val_loss: 0.5758\n",
      "Epoch 24/50\n",
      "\u001b[1m738/738\u001b[0m \u001b[32m━━━━━━━━━━━━━━━━━━━━\u001b[0m\u001b[37m\u001b[0m \u001b[1m0s\u001b[0m 310us/step - accuracy: 0.6733 - loss: 0.5860 - val_accuracy: 0.6889 - val_loss: 0.5750\n",
      "Epoch 25/50\n",
      "\u001b[1m738/738\u001b[0m \u001b[32m━━━━━━━━━━━━━━━━━━━━\u001b[0m\u001b[37m\u001b[0m \u001b[1m0s\u001b[0m 315us/step - accuracy: 0.6762 - loss: 0.5795 - val_accuracy: 0.6889 - val_loss: 0.5750\n",
      "Epoch 26/50\n",
      "\u001b[1m738/738\u001b[0m \u001b[32m━━━━━━━━━━━━━━━━━━━━\u001b[0m\u001b[37m\u001b[0m \u001b[1m0s\u001b[0m 318us/step - accuracy: 0.6699 - loss: 0.5867 - val_accuracy: 0.6889 - val_loss: 0.5747\n",
      "Epoch 27/50\n",
      "\u001b[1m738/738\u001b[0m \u001b[32m━━━━━━━━━━━━━━━━━━━━\u001b[0m\u001b[37m\u001b[0m \u001b[1m0s\u001b[0m 322us/step - accuracy: 0.6779 - loss: 0.5814 - val_accuracy: 0.6889 - val_loss: 0.5745\n",
      "Epoch 28/50\n",
      "\u001b[1m738/738\u001b[0m \u001b[32m━━━━━━━━━━━━━━━━━━━━\u001b[0m\u001b[37m\u001b[0m \u001b[1m0s\u001b[0m 316us/step - accuracy: 0.6769 - loss: 0.5837 - val_accuracy: 0.6889 - val_loss: 0.5749\n",
      "Epoch 29/50\n",
      "\u001b[1m738/738\u001b[0m \u001b[32m━━━━━━━━━━━━━━━━━━━━\u001b[0m\u001b[37m\u001b[0m \u001b[1m0s\u001b[0m 317us/step - accuracy: 0.6801 - loss: 0.5819 - val_accuracy: 0.6889 - val_loss: 0.5749\n",
      "Epoch 30/50\n",
      "\u001b[1m738/738\u001b[0m \u001b[32m━━━━━━━━━━━━━━━━━━━━\u001b[0m\u001b[37m\u001b[0m \u001b[1m0s\u001b[0m 316us/step - accuracy: 0.6834 - loss: 0.5786 - val_accuracy: 0.6889 - val_loss: 0.5743\n",
      "Epoch 31/50\n",
      "\u001b[1m738/738\u001b[0m \u001b[32m━━━━━━━━━━━━━━━━━━━━\u001b[0m\u001b[37m\u001b[0m \u001b[1m0s\u001b[0m 311us/step - accuracy: 0.6764 - loss: 0.5823 - val_accuracy: 0.6889 - val_loss: 0.5742\n",
      "Epoch 32/50\n",
      "\u001b[1m738/738\u001b[0m \u001b[32m━━━━━━━━━━━━━━━━━━━━\u001b[0m\u001b[37m\u001b[0m \u001b[1m0s\u001b[0m 318us/step - accuracy: 0.6742 - loss: 0.5789 - val_accuracy: 0.6889 - val_loss: 0.5737\n",
      "Epoch 33/50\n",
      "\u001b[1m738/738\u001b[0m \u001b[32m━━━━━━━━━━━━━━━━━━━━\u001b[0m\u001b[37m\u001b[0m \u001b[1m0s\u001b[0m 326us/step - accuracy: 0.6781 - loss: 0.5790 - val_accuracy: 0.6889 - val_loss: 0.5735\n",
      "Epoch 34/50\n",
      "\u001b[1m738/738\u001b[0m \u001b[32m━━━━━━━━━━━━━━━━━━━━\u001b[0m\u001b[37m\u001b[0m \u001b[1m0s\u001b[0m 320us/step - accuracy: 0.6752 - loss: 0.5785 - val_accuracy: 0.6889 - val_loss: 0.5733\n",
      "Epoch 35/50\n",
      "\u001b[1m738/738\u001b[0m \u001b[32m━━━━━━━━━━━━━━━━━━━━\u001b[0m\u001b[37m\u001b[0m \u001b[1m0s\u001b[0m 312us/step - accuracy: 0.6696 - loss: 0.5862 - val_accuracy: 0.6889 - val_loss: 0.5732\n",
      "Epoch 36/50\n",
      "\u001b[1m738/738\u001b[0m \u001b[32m━━━━━━━━━━━━━━━━━━━━\u001b[0m\u001b[37m\u001b[0m \u001b[1m0s\u001b[0m 310us/step - accuracy: 0.6714 - loss: 0.5803 - val_accuracy: 0.6889 - val_loss: 0.5734\n",
      "Epoch 37/50\n",
      "\u001b[1m738/738\u001b[0m \u001b[32m━━━━━━━━━━━━━━━━━━━━\u001b[0m\u001b[37m\u001b[0m \u001b[1m0s\u001b[0m 314us/step - accuracy: 0.6757 - loss: 0.5806 - val_accuracy: 0.6889 - val_loss: 0.5730\n",
      "Epoch 38/50\n",
      "\u001b[1m738/738\u001b[0m \u001b[32m━━━━━━━━━━━━━━━━━━━━\u001b[0m\u001b[37m\u001b[0m \u001b[1m0s\u001b[0m 314us/step - accuracy: 0.6737 - loss: 0.5809 - val_accuracy: 0.6889 - val_loss: 0.5730\n",
      "Epoch 39/50\n",
      "\u001b[1m738/738\u001b[0m \u001b[32m━━━━━━━━━━━━━━━━━━━━\u001b[0m\u001b[37m\u001b[0m \u001b[1m0s\u001b[0m 314us/step - accuracy: 0.6724 - loss: 0.5830 - val_accuracy: 0.6889 - val_loss: 0.5731\n",
      "Epoch 40/50\n",
      "\u001b[1m738/738\u001b[0m \u001b[32m━━━━━━━━━━━━━━━━━━━━\u001b[0m\u001b[37m\u001b[0m \u001b[1m0s\u001b[0m 315us/step - accuracy: 0.6732 - loss: 0.5821 - val_accuracy: 0.6889 - val_loss: 0.5727\n",
      "Epoch 41/50\n",
      "\u001b[1m738/738\u001b[0m \u001b[32m━━━━━━━━━━━━━━━━━━━━\u001b[0m\u001b[37m\u001b[0m \u001b[1m0s\u001b[0m 315us/step - accuracy: 0.6756 - loss: 0.5818 - val_accuracy: 0.6889 - val_loss: 0.5726\n",
      "Epoch 42/50\n",
      "\u001b[1m738/738\u001b[0m \u001b[32m━━━━━━━━━━━━━━━━━━━━\u001b[0m\u001b[37m\u001b[0m \u001b[1m0s\u001b[0m 314us/step - accuracy: 0.6750 - loss: 0.5795 - val_accuracy: 0.6889 - val_loss: 0.5728\n",
      "Epoch 43/50\n",
      "\u001b[1m738/738\u001b[0m \u001b[32m━━━━━━━━━━━━━━━━━━━━\u001b[0m\u001b[37m\u001b[0m \u001b[1m0s\u001b[0m 317us/step - accuracy: 0.6733 - loss: 0.5793 - val_accuracy: 0.6889 - val_loss: 0.5725\n",
      "Epoch 44/50\n",
      "\u001b[1m738/738\u001b[0m \u001b[32m━━━━━━━━━━━━━━━━━━━━\u001b[0m\u001b[37m\u001b[0m \u001b[1m0s\u001b[0m 343us/step - accuracy: 0.6802 - loss: 0.5776 - val_accuracy: 0.6889 - val_loss: 0.5732\n",
      "Epoch 45/50\n",
      "\u001b[1m738/738\u001b[0m \u001b[32m━━━━━━━━━━━━━━━━━━━━\u001b[0m\u001b[37m\u001b[0m \u001b[1m0s\u001b[0m 315us/step - accuracy: 0.6748 - loss: 0.5819 - val_accuracy: 0.6889 - val_loss: 0.5727\n",
      "Epoch 46/50\n",
      "\u001b[1m738/738\u001b[0m \u001b[32m━━━━━━━━━━━━━━━━━━━━\u001b[0m\u001b[37m\u001b[0m \u001b[1m0s\u001b[0m 318us/step - accuracy: 0.6790 - loss: 0.5766 - val_accuracy: 0.6889 - val_loss: 0.5722\n",
      "Epoch 47/50\n",
      "\u001b[1m738/738\u001b[0m \u001b[32m━━━━━━━━━━━━━━━━━━━━\u001b[0m\u001b[37m\u001b[0m \u001b[1m0s\u001b[0m 319us/step - accuracy: 0.6779 - loss: 0.5775 - val_accuracy: 0.6889 - val_loss: 0.5724\n",
      "Epoch 48/50\n",
      "\u001b[1m738/738\u001b[0m \u001b[32m━━━━━━━━━━━━━━━━━━━━\u001b[0m\u001b[37m\u001b[0m \u001b[1m0s\u001b[0m 309us/step - accuracy: 0.6725 - loss: 0.5820 - val_accuracy: 0.6890 - val_loss: 0.5720\n",
      "Epoch 49/50\n",
      "\u001b[1m738/738\u001b[0m \u001b[32m━━━━━━━━━━━━━━━━━━━━\u001b[0m\u001b[37m\u001b[0m \u001b[1m0s\u001b[0m 319us/step - accuracy: 0.6718 - loss: 0.5829 - val_accuracy: 0.6890 - val_loss: 0.5718\n",
      "Epoch 50/50\n",
      "\u001b[1m738/738\u001b[0m \u001b[32m━━━━━━━━━━━━━━━━━━━━\u001b[0m\u001b[37m\u001b[0m \u001b[1m0s\u001b[0m 314us/step - accuracy: 0.6751 - loss: 0.5802 - val_accuracy: 0.6890 - val_loss: 0.5717\n",
      "\u001b[1m396/396\u001b[0m \u001b[32m━━━━━━━━━━━━━━━━━━━━\u001b[0m\u001b[37m\u001b[0m \u001b[1m0s\u001b[0m 242us/step\n",
      "Accuracy: 0.6819296164491894\n"
     ]
    }
   ],
   "source": [
    "model.compile(optimizer=\"adam\", loss=\"binary_crossentropy\", metrics=[\"accuracy\"])\n",
    "# train model\n",
    "history = model.fit(X_la_train, y_la_train, epochs=50, batch_size=32, validation_split=0.2, verbose=1)\n",
    "\n",
    "# モデルによる予測\n",
    "y_pred_la_nn = (model.predict(X_la_test) > 0.5).astype(\"int32\")\n",
    "\n",
    "# モデル性能の評価\n",
    "accuracy = accuracy_score(y_la_test, y_pred_la_nn)\n",
    "print(\"Accuracy:\", accuracy)"
   ]
  },
  {
   "cell_type": "code",
   "execution_count": 170,
   "metadata": {},
   "outputs": [
    {
     "data": {
      "image/png": "[encoded data removed]",
      "text/plain": [
       "<Figure size 640x480 with 1 Axes>"
      ]
     },
     "metadata": {},
     "output_type": "display_data"
    }
   ],
   "source": [
    "# Visualize the cost function \n",
    "plt.plot(history.history['loss'], label='Training Loss')\n",
    "plt.plot(history.history['val_loss'], label='Validation Loss')\n",
    "plt.title('Loss Curve')\n",
    "plt.xlabel('Epoch')\n",
    "plt.ylabel('Loss')\n",
    "plt.legend()\n",
    "plt.show()"
   ]
  },
  {
   "cell_type": "code",
   "execution_count": 171,
   "metadata": {},
   "outputs": [
    {
     "name": "stdout",
     "output_type": "stream",
     "text": [
      "\u001b[1m396/396\u001b[0m \u001b[32m━━━━━━━━━━━━━━━━━━━━\u001b[0m\u001b[37m\u001b[0m \u001b[1m0s\u001b[0m 222us/step\n",
      "NN Accuracy: 0.6819296164491894\n"
     ]
    }
   ],
   "source": [
    "y_pred_nn_la = (model.predict(X_la_test) > 0.5).astype(int)\n",
    "accuracy_nn_la = accuracy_score(y_la_test, y_pred_nn_la)\n",
    "print(\"NN Accuracy:\", accuracy_nn_la)"
   ]
  },
  {
   "cell_type": "markdown",
   "metadata": {},
   "source": [
    "c"
   ]
  }
 ],
 "metadata": {
  "kernelspec": {
   "display_name": "Python 3.9.6 64-bit",
   "language": "python",
   "name": "python3"
  },
  "language_info": {
   "codemirror_mode": {
    "name": "ipython",
    "version": 3
   },
   "file_extension": ".py",
   "mimetype": "text/x-python",
   "name": "python",
   "nbconvert_exporter": "python",
   "pygments_lexer": "ipython3",
   "version": "3.9.6"
  },
  "orig_nbformat": 4,
  "vscode": {
   "interpreter": {
    "hash": "31f2aee4e71d21fbe5cf8b01ff0e069b9275f58929596ceb00d14d90e3e16cd6"
   }
  }
 },
 "nbformat": 4,
 "nbformat_minor": 2
}
